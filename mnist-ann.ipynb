{
 "cells": [
  {
   "cell_type": "code",
   "execution_count": 1,
   "id": "aff80fba",
   "metadata": {},
   "outputs": [],
   "source": [
    "import torch\n",
    "import torch.nn as nn\n",
    "from torch.optim import SGD\n",
    "import torch.nn.functional as F\n",
    "from torch.utils.data import Dataset, DataLoader\n",
    "#import torchvision\n",
    "import numpy as np\n",
    "import matplotlib.pyplot as plt"
   ]
  },
  {
   "cell_type": "code",
   "execution_count": 2,
   "id": "ca3c20cb",
   "metadata": {},
   "outputs": [],
   "source": [
    "x, y = torch.load(\"C:\\\\Users\\\\ashul\\\\Desktop\\\\handwriting files\\\\MNIST\\\\MNIST\\\\processed\\\\training.pt\")"
   ]
  },
  {
   "cell_type": "code",
   "execution_count": 3,
   "id": "f12ff6f8",
   "metadata": {},
   "outputs": [
    {
     "data": {
      "text/plain": [
       "(torch.Size([60000, 28, 28]), torch.Size([60000]))"
      ]
     },
     "execution_count": 3,
     "metadata": {},
     "output_type": "execute_result"
    }
   ],
   "source": [
    "x.shape,y.shape"
   ]
  },
  {
   "cell_type": "code",
   "execution_count": 5,
   "id": "f430916f",
   "metadata": {},
   "outputs": [],
   "source": [
    "y_new = F.one_hot(y,num_classes=10)"
   ]
  },
  {
   "cell_type": "code",
   "execution_count": 6,
   "id": "16e5dfa2",
   "metadata": {},
   "outputs": [
    {
     "data": {
      "text/plain": [
       "torch.Size([60000, 10])"
      ]
     },
     "execution_count": 6,
     "metadata": {},
     "output_type": "execute_result"
    }
   ],
   "source": [
    "y_new.shape"
   ]
  },
  {
   "cell_type": "code",
   "execution_count": 7,
   "id": "bbe42efd",
   "metadata": {},
   "outputs": [
    {
     "data": {
      "text/plain": [
       "torch.Size([60000, 784])"
      ]
     },
     "execution_count": 7,
     "metadata": {},
     "output_type": "execute_result"
    }
   ],
   "source": [
    "x.view(-1,28**2).shape"
   ]
  },
  {
   "cell_type": "code",
   "execution_count": 8,
   "id": "f3b3d274",
   "metadata": {},
   "outputs": [],
   "source": [
    "class CTDataset(Dataset):\n",
    "    def __init__(self, filepath):\n",
    "        self.x, self.y = torch.load(filepath)\n",
    "        self.x = self.x / 255.\n",
    "        self.y = F.one_hot(self.y, num_classes=10).to(float)\n",
    "    def __len__(self): \n",
    "        return self.x.shape[0]\n",
    "    def __getitem__(self, ix): \n",
    "        return self.x[ix], self.y[ix]"
   ]
  },
  {
   "cell_type": "code",
   "execution_count": 9,
   "id": "a1713ed8",
   "metadata": {},
   "outputs": [],
   "source": [
    "train_ds = CTDataset('C:\\\\Users\\\\ashul\\\\Desktop\\\\handwriting files\\\\MNIST\\\\MNIST\\\\processed\\\\training.pt')\n",
    "test_ds = CTDataset('C:\\\\Users\\\\ashul\\\\Desktop\\\\handwriting files\\\\MNIST\\\\MNIST\\\\processed\\\\test.pt')"
   ]
  },
  {
   "cell_type": "code",
   "execution_count": 10,
   "id": "19bd008f",
   "metadata": {},
   "outputs": [
    {
     "data": {
      "text/plain": [
       "10000"
      ]
     },
     "execution_count": 10,
     "metadata": {},
     "output_type": "execute_result"
    }
   ],
   "source": [
    "len(test_ds)"
   ]
  },
  {
   "cell_type": "code",
   "execution_count": 11,
   "id": "effd9418",
   "metadata": {},
   "outputs": [],
   "source": [
    "BatchSize = 5\n",
    "train_dl = DataLoader(train_ds, batch_size=BatchSize)"
   ]
  },
  {
   "cell_type": "code",
   "execution_count": 148,
   "id": "f38917f8",
   "metadata": {},
   "outputs": [],
   "source": [
    "L = nn.CrossEntropyLoss()"
   ]
  },
  {
   "cell_type": "code",
   "execution_count": 149,
   "id": "49414dad",
   "metadata": {},
   "outputs": [],
   "source": [
    "class MyNeuralNet(nn.Module):\n",
    "    def __init__(self):\n",
    "        super().__init__()\n",
    "        self.Matrix1 = nn.Linear(28**2,100)\n",
    "        self.Matrix2 = nn.Linear(100,50)\n",
    "        self.Matrix3 = nn.Linear(50,10,bias=False)\n",
    "        #self.R = nn.ReLU()\n",
    "        self.R = nn.Tanh()\n",
    "    def forward(self,x):\n",
    "        x = x.view(-1,28**2)\n",
    "        x = self.R(self.Matrix1(x))\n",
    "        x = self.R(self.Matrix2(x))\n",
    "        x = self.Matrix3(x)\n",
    "        return x.squeeze()"
   ]
  },
  {
   "cell_type": "code",
   "execution_count": null,
   "id": "bdde35a4",
   "metadata": {},
   "outputs": [],
   "source": [
    "class DeepNeuralNet(nn.Module):\n",
    "    def __init__(self):\n",
    "        super().__init__()\n",
    "        self.Conv1 = nn.Conv2d()"
   ]
  },
  {
   "cell_type": "code",
   "execution_count": 150,
   "id": "f3640a2d",
   "metadata": {},
   "outputs": [],
   "source": [
    "f = MyNeuralNet()"
   ]
  },
  {
   "cell_type": "code",
   "execution_count": 151,
   "id": "5a7217b5",
   "metadata": {},
   "outputs": [],
   "source": [
    "def train_model(dl, f, n_epochs=40):\n",
    "    # Optimization\n",
    "    opt = SGD(f.parameters(), lr=0.01)\n",
    "    L = nn.CrossEntropyLoss()\n",
    "\n",
    "    # Train model\n",
    "    losses = []\n",
    "    epochs = []\n",
    "    for epoch in range(n_epochs):\n",
    "        print(f'Epoch {epoch}')\n",
    "        N = len(dl)\n",
    "        for i, (x, y) in enumerate(dl):\n",
    "            # Update the weights of the network\n",
    "            opt.zero_grad() \n",
    "            loss_value = L(f(x), y) \n",
    "            loss_value.backward() \n",
    "            opt.step() \n",
    "            # Store training data\n",
    "            epochs.append(epoch+i/N)\n",
    "            losses.append(loss_value.item())\n",
    "    return np.array(epochs), np.array(losses)"
   ]
  },
  {
   "cell_type": "code",
   "execution_count": 152,
   "id": "7f6ee0f6",
   "metadata": {},
   "outputs": [
    {
     "name": "stdout",
     "output_type": "stream",
     "text": [
      "Epoch 0\n",
      "Epoch 1\n",
      "Epoch 2\n",
      "Epoch 3\n",
      "Epoch 4\n",
      "Epoch 5\n",
      "Epoch 6\n",
      "Epoch 7\n",
      "Epoch 8\n",
      "Epoch 9\n",
      "Epoch 10\n",
      "Epoch 11\n",
      "Epoch 12\n",
      "Epoch 13\n",
      "Epoch 14\n",
      "Epoch 15\n",
      "Epoch 16\n",
      "Epoch 17\n",
      "Epoch 18\n",
      "Epoch 19\n",
      "Epoch 20\n",
      "Epoch 21\n",
      "Epoch 22\n",
      "Epoch 23\n",
      "Epoch 24\n",
      "Epoch 25\n",
      "Epoch 26\n",
      "Epoch 27\n",
      "Epoch 28\n",
      "Epoch 29\n",
      "Epoch 30\n",
      "Epoch 31\n",
      "Epoch 32\n",
      "Epoch 33\n",
      "Epoch 34\n",
      "Epoch 35\n",
      "Epoch 36\n",
      "Epoch 37\n",
      "Epoch 38\n",
      "Epoch 39\n"
     ]
    }
   ],
   "source": [
    "epoch_data, loss_data = train_model(train_dl, f)"
   ]
  },
  {
   "cell_type": "code",
   "execution_count": 17,
   "id": "59f90bdc",
   "metadata": {},
   "outputs": [
    {
     "data": {
      "text/plain": [
       "tensor([0., 0., 0., 0., 0., 1., 0., 0., 0., 0.], dtype=torch.float64)"
      ]
     },
     "execution_count": 17,
     "metadata": {},
     "output_type": "execute_result"
    }
   ],
   "source": [
    "y_sample = train_ds[0][1]\n",
    "y_sample"
   ]
  },
  {
   "cell_type": "code",
   "execution_count": 18,
   "id": "dfa16d7d",
   "metadata": {},
   "outputs": [
    {
     "data": {
      "text/plain": [
       "tensor(5)"
      ]
     },
     "execution_count": 18,
     "metadata": {},
     "output_type": "execute_result"
    }
   ],
   "source": [
    "x_sample = train_ds[0][0]\n",
    "yhat_sample = f(x_sample)\n",
    "torch.argmax(yhat_sample)"
   ]
  },
  {
   "cell_type": "code",
   "execution_count": 42,
   "id": "71e39f9c",
   "metadata": {},
   "outputs": [
    {
     "data": {
      "text/plain": [
       "torch.Size([28, 28])"
      ]
     },
     "execution_count": 42,
     "metadata": {},
     "output_type": "execute_result"
    }
   ],
   "source": [
    "x_sample.shape"
   ]
  },
  {
   "cell_type": "code",
   "execution_count": 25,
   "id": "5c6d6775",
   "metadata": {
    "scrolled": true
   },
   "outputs": [
    {
     "data": {
      "text/plain": [
       "<matplotlib.image.AxesImage at 0x221daa62dd8>"
      ]
     },
     "execution_count": 25,
     "metadata": {},
     "output_type": "execute_result"
    },
    {
     "data": {
      "image/png": "[encoded data removed]",
      "text/plain": [
       "<Figure size 432x288 with 1 Axes>"
      ]
     },
     "metadata": {
      "needs_background": "light"
     },
     "output_type": "display_data"
    }
   ],
   "source": [
    "plt.imshow(x_sample)"
   ]
  },
  {
   "cell_type": "code",
   "execution_count": 27,
   "id": "e2722b72",
   "metadata": {},
   "outputs": [
    {
     "data": {
      "text/plain": [
       "torch.Tensor"
      ]
     },
     "execution_count": 27,
     "metadata": {},
     "output_type": "execute_result"
    }
   ],
   "source": [
    "type(x_sample)"
   ]
  },
  {
   "cell_type": "code",
   "execution_count": 33,
   "id": "b221c8a3",
   "metadata": {},
   "outputs": [],
   "source": [
    "from PIL import Image\n",
    "import torchvision.transforms as transforms"
   ]
  },
  {
   "cell_type": "code",
   "execution_count": 100,
   "id": "019157df",
   "metadata": {},
   "outputs": [
    {
     "name": "stdout",
     "output_type": "stream",
     "text": [
      "(28, 28)\n",
      "0 0 255\n",
      "0 1 255\n",
      "0 2 255\n",
      "0 3 255\n",
      "0 4 255\n",
      "0 5 255\n",
      "0 6 255\n",
      "0 7 255\n",
      "0 8 255\n",
      "0 9 255\n",
      "0 10 255\n",
      "0 11 255\n",
      "0 12 255\n",
      "0 13 255\n",
      "0 14 255\n",
      "0 15 255\n",
      "0 16 255\n",
      "0 17 255\n",
      "0 18 255\n",
      "0 19 255\n",
      "0 20 255\n",
      "0 21 255\n",
      "0 22 255\n",
      "0 23 255\n",
      "0 24 255\n",
      "0 25 255\n",
      "0 26 255\n",
      "0 27 255\n",
      "1 0 255\n",
      "1 1 255\n",
      "1 2 255\n",
      "1 3 255\n",
      "1 4 255\n",
      "1 5 255\n",
      "1 6 255\n",
      "1 7 255\n",
      "1 8 255\n",
      "1 9 255\n",
      "1 10 255\n",
      "1 11 255\n",
      "1 12 255\n",
      "1 13 255\n",
      "1 14 255\n",
      "1 15 255\n",
      "1 16 255\n",
      "1 17 255\n",
      "1 18 255\n",
      "1 19 255\n",
      "1 20 255\n",
      "1 21 255\n",
      "1 22 255\n",
      "1 23 255\n",
      "1 24 255\n",
      "1 25 255\n",
      "1 26 255\n",
      "1 27 255\n",
      "2 0 255\n",
      "2 1 255\n",
      "2 2 255\n",
      "2 3 255\n",
      "2 4 255\n",
      "2 5 255\n",
      "2 6 255\n",
      "2 7 255\n",
      "2 8 255\n",
      "2 9 255\n",
      "2 10 255\n",
      "2 11 255\n",
      "2 12 255\n",
      "2 13 255\n",
      "2 14 255\n",
      "2 15 255\n",
      "2 16 255\n",
      "2 17 255\n",
      "2 18 255\n",
      "2 19 255\n",
      "2 20 255\n",
      "2 21 255\n",
      "2 22 255\n",
      "2 23 255\n",
      "2 24 255\n",
      "2 25 255\n",
      "2 26 255\n",
      "2 27 255\n",
      "3 0 255\n",
      "3 1 255\n",
      "3 2 255\n",
      "3 3 255\n",
      "3 4 255\n",
      "3 5 255\n",
      "3 6 255\n",
      "3 7 255\n",
      "3 8 255\n",
      "3 9 255\n",
      "3 10 255\n",
      "3 11 255\n",
      "3 12 255\n",
      "3 13 255\n",
      "3 14 255\n",
      "3 15 255\n",
      "3 16 255\n",
      "3 17 255\n",
      "3 18 255\n",
      "3 19 255\n",
      "3 20 255\n",
      "3 21 255\n",
      "3 22 255\n",
      "3 23 255\n",
      "3 24 255\n",
      "3 25 255\n",
      "3 26 255\n",
      "3 27 255\n",
      "4 0 255\n",
      "4 1 255\n",
      "4 2 255\n",
      "4 3 255\n",
      "4 4 255\n",
      "4 5 255\n",
      "4 6 255\n",
      "4 7 255\n",
      "4 8 255\n",
      "4 9 255\n",
      "4 10 255\n",
      "4 11 255\n",
      "4 12 255\n",
      "4 13 255\n",
      "4 14 255\n",
      "4 15 255\n",
      "4 16 255\n",
      "4 17 255\n",
      "4 18 255\n",
      "4 19 255\n",
      "4 20 255\n",
      "4 21 255\n",
      "4 22 255\n",
      "4 23 255\n",
      "4 24 255\n",
      "4 25 255\n",
      "4 26 255\n",
      "4 27 255\n",
      "5 0 255\n",
      "5 1 255\n",
      "5 2 255\n",
      "5 3 255\n",
      "5 4 255\n",
      "5 5 255\n",
      "5 6 255\n",
      "5 7 255\n",
      "5 8 255\n",
      "5 9 255\n",
      "5 10 255\n",
      "5 11 255\n",
      "5 12 255\n",
      "5 13 255\n",
      "5 14 255\n",
      "5 15 255\n",
      "5 16 255\n",
      "5 17 255\n",
      "5 18 255\n",
      "5 19 255\n",
      "5 20 255\n",
      "5 21 255\n",
      "5 22 255\n",
      "5 23 255\n",
      "5 24 255\n",
      "5 25 255\n",
      "5 26 255\n",
      "5 27 255\n",
      "6 0 255\n",
      "6 1 255\n",
      "6 2 255\n",
      "6 3 255\n",
      "6 4 255\n",
      "6 5 255\n",
      "6 6 255\n",
      "6 7 255\n",
      "6 8 255\n",
      "6 9 255\n",
      "6 10 255\n",
      "6 11 255\n",
      "6 12 255\n",
      "6 13 255\n",
      "6 14 255\n",
      "6 15 255\n",
      "6 16 255\n",
      "6 17 255\n",
      "6 18 255\n",
      "6 19 255\n",
      "6 20 255\n",
      "6 21 255\n",
      "6 22 255\n",
      "6 23 255\n",
      "6 24 255\n",
      "6 25 255\n",
      "6 26 255\n",
      "6 27 255\n",
      "7 0 255\n",
      "7 1 255\n",
      "7 2 255\n",
      "7 3 255\n",
      "7 4 255\n",
      "7 5 255\n",
      "7 6 255\n",
      "7 7 255\n",
      "7 8 255\n",
      "7 9 255\n",
      "7 10 255\n",
      "7 11 255\n",
      "7 12 255\n",
      "7 13 255\n",
      "7 14 255\n",
      "7 15 255\n",
      "7 16 255\n",
      "7 17 255\n",
      "7 18 255\n",
      "7 19 255\n",
      "7 20 255\n",
      "7 21 255\n",
      "7 22 255\n",
      "7 23 255\n",
      "7 24 255\n",
      "7 25 255\n",
      "7 26 255\n",
      "7 27 255\n",
      "8 0 255\n",
      "8 1 255\n",
      "8 2 255\n",
      "8 3 255\n",
      "8 4 255\n",
      "8 5 255\n",
      "8 6 255\n",
      "8 7 255\n",
      "8 8 255\n",
      "8 9 255\n",
      "8 10 255\n",
      "8 11 255\n",
      "8 12 255\n",
      "8 13 255\n",
      "8 14 255\n",
      "8 15 255\n",
      "8 16 255\n",
      "8 17 255\n",
      "8 18 255\n",
      "8 19 255\n",
      "8 20 255\n",
      "8 21 255\n",
      "8 22 255\n",
      "8 23 255\n",
      "8 24 255\n",
      "8 25 255\n",
      "8 26 255\n",
      "8 27 255\n",
      "9 0 255\n",
      "9 1 255\n",
      "9 2 255\n",
      "9 3 255\n",
      "9 4 255\n",
      "9 5 255\n",
      "9 6 255\n",
      "9 7 255\n",
      "9 8 255\n",
      "9 9 255\n",
      "9 10 255\n",
      "9 11 255\n",
      "9 12 255\n",
      "9 13 255\n",
      "9 14 255\n",
      "9 15 255\n",
      "9 16 255\n",
      "9 17 255\n",
      "9 18 255\n",
      "9 19 255\n",
      "9 20 255\n",
      "9 21 255\n",
      "9 22 255\n",
      "9 23 255\n",
      "9 24 255\n",
      "9 25 255\n",
      "9 26 255\n",
      "9 27 255\n",
      "10 0 255\n",
      "10 1 255\n",
      "10 2 255\n",
      "10 3 255\n",
      "10 4 255\n",
      "10 5 255\n",
      "10 6 255\n",
      "10 7 255\n",
      "10 8 255\n",
      "10 9 255\n",
      "10 10 255\n",
      "10 11 255\n",
      "10 12 255\n",
      "10 13 255\n",
      "10 14 255\n",
      "10 15 255\n",
      "10 16 255\n",
      "10 17 255\n",
      "10 18 255\n",
      "10 19 255\n",
      "10 20 255\n",
      "10 21 255\n",
      "10 22 255\n",
      "10 23 255\n",
      "10 24 255\n",
      "10 25 255\n",
      "10 26 255\n",
      "10 27 255\n",
      "11 0 255\n",
      "11 1 255\n",
      "11 2 255\n",
      "11 3 255\n",
      "11 4 255\n",
      "11 5 214\n",
      "11 6 219\n",
      "11 7 227\n",
      "11 8 235\n",
      "11 9 237\n",
      "11 10 242\n",
      "11 11 246\n",
      "11 12 255\n",
      "11 13 255\n",
      "11 14 255\n",
      "11 15 255\n",
      "11 16 255\n",
      "11 17 255\n",
      "11 18 255\n",
      "11 19 255\n",
      "11 20 255\n",
      "11 21 255\n",
      "11 22 255\n",
      "11 23 255\n",
      "11 24 255\n",
      "11 25 255\n",
      "11 26 255\n",
      "11 27 255\n",
      "12 0 255\n",
      "12 1 255\n",
      "12 2 255\n",
      "12 3 255\n",
      "12 4 145\n",
      "12 5 84\n",
      "12 6 84\n",
      "12 7 84\n",
      "12 8 84\n",
      "12 9 84\n",
      "12 10 84\n",
      "12 11 84\n",
      "12 12 88\n",
      "12 13 100\n",
      "12 14 116\n",
      "12 15 137\n",
      "12 16 155\n",
      "12 17 171\n",
      "12 18 186\n",
      "12 19 186\n",
      "12 20 181\n",
      "12 21 214\n",
      "12 22 255\n",
      "12 23 255\n",
      "12 24 255\n",
      "12 25 255\n",
      "12 26 255\n",
      "12 27 255\n",
      "13 0 255\n",
      "13 1 255\n",
      "13 2 255\n",
      "13 3 255\n",
      "13 4 110\n",
      "13 5 84\n",
      "13 6 84\n",
      "13 7 84\n",
      "13 8 84\n",
      "13 9 84\n",
      "13 10 84\n",
      "13 11 84\n",
      "13 12 84\n",
      "13 13 84\n",
      "13 14 84\n",
      "13 15 84\n",
      "13 16 84\n",
      "13 17 84\n",
      "13 18 84\n",
      "13 19 84\n",
      "13 20 84\n",
      "13 21 84\n",
      "13 22 237\n",
      "13 23 255\n",
      "13 24 255\n",
      "13 25 255\n",
      "13 26 255\n",
      "13 27 255\n",
      "14 0 255\n",
      "14 1 255\n",
      "14 2 255\n",
      "14 3 255\n",
      "14 4 201\n",
      "14 5 128\n",
      "14 6 121\n",
      "14 7 113\n",
      "14 8 106\n",
      "14 9 99\n",
      "14 10 93\n",
      "14 11 85\n",
      "14 12 84\n",
      "14 13 84\n",
      "14 14 84\n",
      "14 15 84\n",
      "14 16 84\n",
      "14 17 84\n",
      "14 18 84\n",
      "14 19 84\n",
      "14 20 84\n",
      "14 21 84\n",
      "14 22 232\n",
      "14 23 255\n",
      "14 24 255\n",
      "14 25 255\n",
      "14 26 255\n",
      "14 27 255\n",
      "15 0 255\n",
      "15 1 255\n",
      "15 2 255\n",
      "15 3 255\n",
      "15 4 255\n",
      "15 5 255\n",
      "15 6 255\n",
      "15 7 255\n",
      "15 8 255\n",
      "15 9 255\n",
      "15 10 255\n",
      "15 11 255\n",
      "15 12 242\n",
      "15 13 231\n",
      "15 14 214\n",
      "15 15 196\n",
      "15 16 180\n",
      "15 17 167\n",
      "15 18 152\n",
      "15 19 154\n",
      "15 20 159\n",
      "15 21 196\n",
      "15 22 255\n",
      "15 23 255\n",
      "15 24 255\n",
      "15 25 255\n",
      "15 26 255\n",
      "15 27 255\n",
      "16 0 255\n",
      "16 1 255\n",
      "16 2 255\n",
      "16 3 255\n",
      "16 4 255\n",
      "16 5 255\n",
      "16 6 255\n",
      "16 7 255\n",
      "16 8 255\n",
      "16 9 255\n",
      "16 10 255\n",
      "16 11 255\n",
      "16 12 255\n",
      "16 13 255\n",
      "16 14 255\n",
      "16 15 255\n",
      "16 16 255\n",
      "16 17 255\n",
      "16 18 255\n",
      "16 19 255\n",
      "16 20 255\n",
      "16 21 255\n",
      "16 22 255\n",
      "16 23 255\n",
      "16 24 255\n",
      "16 25 255\n",
      "16 26 255\n",
      "16 27 255\n",
      "17 0 255\n",
      "17 1 255\n",
      "17 2 255\n",
      "17 3 255\n",
      "17 4 255\n",
      "17 5 255\n",
      "17 6 255\n",
      "17 7 255\n",
      "17 8 255\n",
      "17 9 255\n",
      "17 10 255\n",
      "17 11 255\n",
      "17 12 255\n",
      "17 13 255\n",
      "17 14 255\n",
      "17 15 255\n",
      "17 16 255\n",
      "17 17 255\n",
      "17 18 255\n",
      "17 19 255\n",
      "17 20 255\n",
      "17 21 255\n",
      "17 22 255\n",
      "17 23 255\n",
      "17 24 255\n",
      "17 25 255\n",
      "17 26 255\n",
      "17 27 255\n",
      "18 0 255\n",
      "18 1 255\n",
      "18 2 255\n",
      "18 3 255\n",
      "18 4 255\n",
      "18 5 255\n",
      "18 6 255\n",
      "18 7 255\n",
      "18 8 255\n",
      "18 9 255\n",
      "18 10 255\n",
      "18 11 255\n",
      "18 12 255\n",
      "18 13 255\n",
      "18 14 255\n",
      "18 15 255\n",
      "18 16 255\n",
      "18 17 255\n",
      "18 18 255\n",
      "18 19 255\n",
      "18 20 255\n",
      "18 21 255\n",
      "18 22 255\n",
      "18 23 255\n",
      "18 24 255\n",
      "18 25 255\n",
      "18 26 255\n",
      "18 27 255\n",
      "19 0 255\n",
      "19 1 255\n",
      "19 2 255\n",
      "19 3 255\n",
      "19 4 255\n",
      "19 5 255\n",
      "19 6 255\n",
      "19 7 255\n",
      "19 8 255\n",
      "19 9 255\n",
      "19 10 255\n",
      "19 11 255\n",
      "19 12 255\n",
      "19 13 255\n",
      "19 14 255\n",
      "19 15 255\n",
      "19 16 255\n",
      "19 17 255\n",
      "19 18 255\n",
      "19 19 255\n",
      "19 20 255\n",
      "19 21 255\n",
      "19 22 255\n",
      "19 23 255\n",
      "19 24 255\n",
      "19 25 255\n",
      "19 26 255\n",
      "19 27 255\n",
      "20 0 255\n",
      "20 1 255\n",
      "20 2 255\n",
      "20 3 255\n",
      "20 4 255\n",
      "20 5 255\n",
      "20 6 255\n",
      "20 7 255\n",
      "20 8 255\n",
      "20 9 255\n",
      "20 10 255\n",
      "20 11 255\n",
      "20 12 255\n",
      "20 13 255\n",
      "20 14 255\n",
      "20 15 255\n",
      "20 16 255\n",
      "20 17 255\n",
      "20 18 255\n",
      "20 19 255\n",
      "20 20 255\n",
      "20 21 255\n",
      "20 22 255\n",
      "20 23 255\n",
      "20 24 255\n",
      "20 25 255\n",
      "20 26 255\n",
      "20 27 255\n",
      "21 0 255\n",
      "21 1 255\n",
      "21 2 255\n",
      "21 3 255\n",
      "21 4 255\n",
      "21 5 255\n",
      "21 6 255\n",
      "21 7 255\n",
      "21 8 255\n",
      "21 9 255\n",
      "21 10 255\n",
      "21 11 255\n",
      "21 12 255\n",
      "21 13 255\n",
      "21 14 255\n",
      "21 15 255\n",
      "21 16 255\n",
      "21 17 255\n",
      "21 18 255\n",
      "21 19 255\n",
      "21 20 255\n",
      "21 21 255\n",
      "21 22 255\n",
      "21 23 255\n",
      "21 24 255\n",
      "21 25 255\n",
      "21 26 255\n",
      "21 27 255\n",
      "22 0 255\n",
      "22 1 255\n",
      "22 2 255\n",
      "22 3 255\n",
      "22 4 255\n",
      "22 5 255\n",
      "22 6 255\n",
      "22 7 255\n",
      "22 8 255\n",
      "22 9 255\n",
      "22 10 255\n",
      "22 11 255\n",
      "22 12 255\n",
      "22 13 255\n",
      "22 14 255\n",
      "22 15 255\n",
      "22 16 255\n",
      "22 17 255\n",
      "22 18 255\n",
      "22 19 255\n",
      "22 20 255\n",
      "22 21 255\n",
      "22 22 255\n",
      "22 23 255\n",
      "22 24 255\n",
      "22 25 255\n",
      "22 26 255\n",
      "22 27 255\n",
      "23 0 255\n",
      "23 1 255\n",
      "23 2 255\n",
      "23 3 255\n",
      "23 4 255\n",
      "23 5 255\n",
      "23 6 255\n",
      "23 7 255\n",
      "23 8 255\n",
      "23 9 255\n",
      "23 10 255\n",
      "23 11 255\n",
      "23 12 255\n",
      "23 13 255\n",
      "23 14 255\n",
      "23 15 255\n",
      "23 16 255\n",
      "23 17 255\n",
      "23 18 255\n",
      "23 19 255\n",
      "23 20 255\n",
      "23 21 255\n",
      "23 22 255\n",
      "23 23 255\n",
      "23 24 255\n",
      "23 25 255\n",
      "23 26 255\n",
      "23 27 255\n",
      "24 0 255\n",
      "24 1 255\n",
      "24 2 255\n",
      "24 3 255\n",
      "24 4 255\n",
      "24 5 255\n",
      "24 6 255\n",
      "24 7 255\n",
      "24 8 255\n",
      "24 9 255\n",
      "24 10 255\n",
      "24 11 255\n",
      "24 12 255\n",
      "24 13 255\n",
      "24 14 255\n",
      "24 15 255\n",
      "24 16 255\n",
      "24 17 255\n",
      "24 18 255\n",
      "24 19 255\n",
      "24 20 255\n",
      "24 21 255\n",
      "24 22 255\n",
      "24 23 255\n",
      "24 24 255\n",
      "24 25 255\n",
      "24 26 255\n",
      "24 27 255\n",
      "25 0 255\n",
      "25 1 255\n",
      "25 2 255\n",
      "25 3 255\n",
      "25 4 255\n",
      "25 5 255\n",
      "25 6 255\n",
      "25 7 255\n",
      "25 8 255\n",
      "25 9 255\n",
      "25 10 255\n",
      "25 11 255\n",
      "25 12 255\n",
      "25 13 255\n",
      "25 14 255\n",
      "25 15 255\n",
      "25 16 255\n",
      "25 17 255\n",
      "25 18 255\n",
      "25 19 255\n",
      "25 20 255\n",
      "25 21 255\n",
      "25 22 255\n",
      "25 23 255\n",
      "25 24 255\n",
      "25 25 255\n",
      "25 26 255\n",
      "25 27 255\n",
      "26 0 255\n",
      "26 1 255\n",
      "26 2 255\n",
      "26 3 255\n",
      "26 4 255\n",
      "26 5 255\n",
      "26 6 255\n",
      "26 7 255\n",
      "26 8 255\n",
      "26 9 255\n",
      "26 10 255\n",
      "26 11 255\n",
      "26 12 255\n",
      "26 13 255\n",
      "26 14 255\n",
      "26 15 255\n",
      "26 16 255\n",
      "26 17 255\n",
      "26 18 255\n",
      "26 19 255\n",
      "26 20 255\n",
      "26 21 255\n",
      "26 22 255\n",
      "26 23 255\n",
      "26 24 255\n",
      "26 25 255\n",
      "26 26 255\n",
      "26 27 255\n",
      "27 0 255\n",
      "27 1 255\n",
      "27 2 255\n",
      "27 3 255\n",
      "27 4 255\n",
      "27 5 255\n",
      "27 6 255\n",
      "27 7 255\n",
      "27 8 255\n",
      "27 9 255\n",
      "27 10 255\n",
      "27 11 255\n",
      "27 12 255\n",
      "27 13 255\n",
      "27 14 255\n",
      "27 15 255\n",
      "27 16 255\n",
      "27 17 255\n",
      "27 18 255\n",
      "27 19 255\n",
      "27 20 255\n",
      "27 21 255\n",
      "27 22 255\n",
      "27 23 255\n",
      "27 24 255\n",
      "27 25 255\n",
      "27 26 255\n",
      "27 27 255\n"
     ]
    }
   ],
   "source": [
    "TestImage = Image.open(\"C:\\\\Users\\\\ashul\\\\Downloads\\\\testing.png\").convert(\"L\") #the \"L\" converts to grayscale\n",
    "pix = TestImage.load()\n",
    "print(TestImage.size)\n",
    "for i in range(28):\n",
    "    for j in range(28):\n",
    "        print(i,j,pix[i,j])"
   ]
  },
  {
   "cell_type": "code",
   "execution_count": 39,
   "id": "de341a02",
   "metadata": {},
   "outputs": [],
   "source": [
    "# Define a transform to convert PIL  \n",
    "# image to a Torch tensor \n",
    "transform = transforms.Compose([ \n",
    "    transforms.PILToTensor() \n",
    "])\n",
    "ImageTensor = transform(TestImage)"
   ]
  },
  {
   "cell_type": "code",
   "execution_count": 40,
   "id": "ddaa1bc0",
   "metadata": {},
   "outputs": [
    {
     "name": "stdout",
     "output_type": "stream",
     "text": [
      "tensor([[[255, 255, 255, 255, 255, 255, 255, 255, 255, 255, 255, 255, 255, 255,\n",
      "          255, 255, 255, 255, 255, 255, 255, 255, 255, 255, 255, 255, 255, 255],\n",
      "         [255, 255, 255, 255, 255, 212, 180, 180, 180, 180, 181, 182, 184, 188,\n",
      "          191, 191, 192, 192, 192, 191, 191, 196, 205, 221, 255, 255, 255, 255],\n",
      "         [255, 255, 255, 255, 176,  84,  84,  84,  84,  84,  84,  84,  84,  84,\n",
      "           84,  84,  84,  84,  84,  84,  84,  84,  84,  84, 154, 255, 255, 255],\n",
      "         [255, 255, 255, 255,  98,  84,  84,  84,  84,  84,  84,  84,  84,  84,\n",
      "           84,  84,  84,  84,  84,  84,  84,  84,  84,  84,  84, 218, 255, 255],\n",
      "         [255, 255, 255, 255,  93,  84,  84,  84,  84,  84,  84,  84,  84,  84,\n",
      "           84,  84,  84,  84,  84,  84,  84,  84,  84,  84,  84, 205, 255, 255],\n",
      "         [255, 255, 255, 255, 164,  84,  84,  84,  84,  84,  84,  84,  84,  84,\n",
      "           84,  84,  84,  84,  84,  84,  84,  84,  84,  84, 105, 251, 255, 255],\n",
      "         [255, 255, 255, 255, 255, 194, 160, 160, 160, 160, 159, 158, 156, 153,\n",
      "          149, 149, 149,  84,  84,  84,  84,  84,  84, 117, 226, 255, 255, 255],\n",
      "         [255, 255, 255, 255, 255, 255, 255, 255, 255, 255, 255, 255, 255, 255,\n",
      "          255, 216,  86,  84,  84,  84,  84,  84, 138, 249, 255, 255, 255, 255],\n",
      "         [255, 255, 255, 255, 255, 255, 255, 255, 255, 255, 255, 255, 255, 255,\n",
      "          246, 109,  84,  84,  84,  84,  84, 141, 255, 255, 255, 255, 255, 255],\n",
      "         [255, 255, 255, 255, 255, 255, 255, 255, 255, 255, 255, 255, 255, 255,\n",
      "          144,  84,  84,  84,  84,  84, 143, 255, 255, 255, 255, 255, 255, 255],\n",
      "         [255, 255, 255, 255, 255, 255, 255, 255, 255, 255, 255, 255, 255, 182,\n",
      "           84,  84,  84,  84,  84, 123, 253, 255, 255, 255, 255, 255, 255, 255],\n",
      "         [255, 255, 255, 255, 255, 255, 255, 255, 255, 255, 255, 255, 222,  84,\n",
      "           84,  84,  84,  84,  94, 231, 255, 255, 255, 255, 255, 255, 255, 255],\n",
      "         [255, 255, 255, 255, 255, 255, 255, 255, 255, 255, 255, 255, 124,  84,\n",
      "           84,  84,  84,  84, 196, 255, 255, 255, 255, 255, 255, 255, 255, 255],\n",
      "         [255, 255, 255, 255, 255, 255, 255, 255, 255, 255, 255, 160,  84,  84,\n",
      "           84,  84,  84, 157, 255, 255, 255, 255, 255, 255, 255, 255, 255, 255],\n",
      "         [255, 255, 255, 255, 255, 255, 255, 255, 255, 255, 196,  84,  84,  84,\n",
      "           84,  84, 117, 255, 255, 255, 255, 255, 255, 255, 255, 255, 255, 255],\n",
      "         [255, 255, 255, 255, 255, 255, 255, 255, 255, 231,  94,  84,  84,  84,\n",
      "           84,  84, 217, 255, 255, 255, 255, 255, 255, 255, 255, 255, 255, 255],\n",
      "         [255, 255, 255, 255, 255, 255, 255, 255, 255, 134,  84,  84,  84,  84,\n",
      "           84, 180, 255, 255, 255, 255, 255, 255, 255, 255, 255, 255, 255, 255],\n",
      "         [255, 255, 255, 255, 255, 255, 255, 255, 178,  84,  84,  84,  84,  84,\n",
      "          144, 255, 255, 255, 255, 255, 255, 255, 255, 255, 255, 255, 255, 255],\n",
      "         [255, 255, 255, 255, 255, 255, 255, 209,  84,  84,  84,  84,  84, 109,\n",
      "          246, 255, 255, 255, 255, 255, 255, 255, 255, 255, 255, 255, 255, 255],\n",
      "         [255, 255, 255, 255, 255, 255, 231, 102,  84,  84,  84,  84,  84, 205,\n",
      "          255, 255, 255, 255, 255, 255, 255, 255, 255, 255, 255, 255, 255, 255],\n",
      "         [255, 255, 255, 255, 255, 248, 119,  84,  84,  84,  84,  84, 163, 255,\n",
      "          255, 255, 255, 255, 255, 255, 255, 255, 255, 255, 255, 255, 255, 255],\n",
      "         [255, 255, 255, 255, 255, 135,  84,  84,  84,  84,  84, 131, 255, 255,\n",
      "          255, 255, 255, 255, 255, 255, 255, 255, 255, 255, 255, 255, 255, 255],\n",
      "         [255, 255, 255, 255, 211,  84,  84,  84,  84,  84, 107, 235, 255, 255,\n",
      "          255, 255, 255, 255, 255, 255, 255, 255, 255, 255, 255, 255, 255, 255],\n",
      "         [255, 255, 255, 255, 208,  84,  84,  84,  84,  90, 219, 255, 255, 255,\n",
      "          255, 255, 255, 255, 255, 255, 255, 255, 255, 255, 255, 255, 255, 255],\n",
      "         [255, 255, 255, 255, 255, 122,  84,  84,  84, 202, 255, 255, 255, 255,\n",
      "          255, 255, 255, 255, 255, 255, 255, 255, 255, 255, 255, 255, 255, 255],\n",
      "         [255, 255, 255, 255, 255, 249, 176, 163, 216, 255, 255, 255, 255, 255,\n",
      "          255, 255, 255, 255, 255, 255, 255, 255, 255, 255, 255, 255, 255, 255],\n",
      "         [255, 255, 255, 255, 255, 255, 255, 255, 255, 255, 255, 255, 255, 255,\n",
      "          255, 255, 255, 255, 255, 255, 255, 255, 255, 255, 255, 255, 255, 255],\n",
      "         [255, 255, 255, 255, 255, 255, 255, 255, 255, 255, 255, 255, 255, 255,\n",
      "          255, 255, 255, 255, 255, 255, 255, 255, 255, 255, 255, 255, 255, 255]]],\n",
      "       dtype=torch.uint8)\n"
     ]
    }
   ],
   "source": [
    "print(ImageTensor)"
   ]
  },
  {
   "cell_type": "code",
   "execution_count": 41,
   "id": "7a8578f2",
   "metadata": {},
   "outputs": [
    {
     "data": {
      "text/plain": [
       "tensor([[[0.0000, 0.0000, 0.0000, 0.0000, 0.0000, 0.0000, 0.0000, 0.0000,\n",
       "          0.0000, 0.0000, 0.0000, 0.0000, 0.0000, 0.0000, 0.0000, 0.0000,\n",
       "          0.0000, 0.0000, 0.0000, 0.0000, 0.0000, 0.0000, 0.0000, 0.0000,\n",
       "          0.0000, 0.0000, 0.0000, 0.0000],\n",
       "         [0.0000, 0.0000, 0.0000, 0.0000, 0.0000, 0.8353, 0.7098, 0.7098,\n",
       "          0.7098, 0.7098, 0.7137, 0.7176, 0.7255, 0.7412, 0.7529, 0.7529,\n",
       "          0.7569, 0.7569, 0.7569, 0.7529, 0.7529, 0.7725, 0.8078, 0.8706,\n",
       "          0.0000, 0.0000, 0.0000, 0.0000],\n",
       "         [0.0000, 0.0000, 0.0000, 0.0000, 0.6941, 0.3333, 0.3333, 0.3333,\n",
       "          0.3333, 0.3333, 0.3333, 0.3333, 0.3333, 0.3333, 0.3333, 0.3333,\n",
       "          0.3333, 0.3333, 0.3333, 0.3333, 0.3333, 0.3333, 0.3333, 0.3333,\n",
       "          0.6078, 0.0000, 0.0000, 0.0000],\n",
       "         [0.0000, 0.0000, 0.0000, 0.0000, 0.3882, 0.3333, 0.3333, 0.3333,\n",
       "          0.3333, 0.3333, 0.3333, 0.3333, 0.3333, 0.3333, 0.3333, 0.3333,\n",
       "          0.3333, 0.3333, 0.3333, 0.3333, 0.3333, 0.3333, 0.3333, 0.3333,\n",
       "          0.3333, 0.8588, 0.0000, 0.0000],\n",
       "         [0.0000, 0.0000, 0.0000, 0.0000, 0.3686, 0.3333, 0.3333, 0.3333,\n",
       "          0.3333, 0.3333, 0.3333, 0.3333, 0.3333, 0.3333, 0.3333, 0.3333,\n",
       "          0.3333, 0.3333, 0.3333, 0.3333, 0.3333, 0.3333, 0.3333, 0.3333,\n",
       "          0.3333, 0.8078, 0.0000, 0.0000],\n",
       "         [0.0000, 0.0000, 0.0000, 0.0000, 0.6471, 0.3333, 0.3333, 0.3333,\n",
       "          0.3333, 0.3333, 0.3333, 0.3333, 0.3333, 0.3333, 0.3333, 0.3333,\n",
       "          0.3333, 0.3333, 0.3333, 0.3333, 0.3333, 0.3333, 0.3333, 0.3333,\n",
       "          0.4157, 0.9882, 0.0000, 0.0000],\n",
       "         [0.0000, 0.0000, 0.0000, 0.0000, 0.0000, 0.7647, 0.6314, 0.6314,\n",
       "          0.6314, 0.6314, 0.6275, 0.6235, 0.6157, 0.6039, 0.5882, 0.5882,\n",
       "          0.5882, 0.3333, 0.3333, 0.3333, 0.3333, 0.3333, 0.3333, 0.4627,\n",
       "          0.8902, 0.0000, 0.0000, 0.0000],\n",
       "         [0.0000, 0.0000, 0.0000, 0.0000, 0.0000, 0.0000, 0.0000, 0.0000,\n",
       "          0.0000, 0.0000, 0.0000, 0.0000, 0.0000, 0.0000, 0.0000, 0.8510,\n",
       "          0.3412, 0.3333, 0.3333, 0.3333, 0.3333, 0.3333, 0.5451, 0.9804,\n",
       "          0.0000, 0.0000, 0.0000, 0.0000],\n",
       "         [0.0000, 0.0000, 0.0000, 0.0000, 0.0000, 0.0000, 0.0000, 0.0000,\n",
       "          0.0000, 0.0000, 0.0000, 0.0000, 0.0000, 0.0000, 0.9686, 0.4314,\n",
       "          0.3333, 0.3333, 0.3333, 0.3333, 0.3333, 0.5569, 0.0000, 0.0000,\n",
       "          0.0000, 0.0000, 0.0000, 0.0000],\n",
       "         [0.0000, 0.0000, 0.0000, 0.0000, 0.0000, 0.0000, 0.0000, 0.0000,\n",
       "          0.0000, 0.0000, 0.0000, 0.0000, 0.0000, 0.0000, 0.5686, 0.3333,\n",
       "          0.3333, 0.3333, 0.3333, 0.3333, 0.5647, 0.0000, 0.0000, 0.0000,\n",
       "          0.0000, 0.0000, 0.0000, 0.0000],\n",
       "         [0.0000, 0.0000, 0.0000, 0.0000, 0.0000, 0.0000, 0.0000, 0.0000,\n",
       "          0.0000, 0.0000, 0.0000, 0.0000, 0.0000, 0.7176, 0.3333, 0.3333,\n",
       "          0.3333, 0.3333, 0.3333, 0.4863, 0.9961, 0.0000, 0.0000, 0.0000,\n",
       "          0.0000, 0.0000, 0.0000, 0.0000],\n",
       "         [0.0000, 0.0000, 0.0000, 0.0000, 0.0000, 0.0000, 0.0000, 0.0000,\n",
       "          0.0000, 0.0000, 0.0000, 0.0000, 0.8745, 0.3333, 0.3333, 0.3333,\n",
       "          0.3333, 0.3333, 0.3725, 0.9098, 0.0000, 0.0000, 0.0000, 0.0000,\n",
       "          0.0000, 0.0000, 0.0000, 0.0000],\n",
       "         [0.0000, 0.0000, 0.0000, 0.0000, 0.0000, 0.0000, 0.0000, 0.0000,\n",
       "          0.0000, 0.0000, 0.0000, 0.0000, 0.4902, 0.3333, 0.3333, 0.3333,\n",
       "          0.3333, 0.3333, 0.7725, 0.0000, 0.0000, 0.0000, 0.0000, 0.0000,\n",
       "          0.0000, 0.0000, 0.0000, 0.0000],\n",
       "         [0.0000, 0.0000, 0.0000, 0.0000, 0.0000, 0.0000, 0.0000, 0.0000,\n",
       "          0.0000, 0.0000, 0.0000, 0.6314, 0.3333, 0.3333, 0.3333, 0.3333,\n",
       "          0.3333, 0.6196, 0.0000, 0.0000, 0.0000, 0.0000, 0.0000, 0.0000,\n",
       "          0.0000, 0.0000, 0.0000, 0.0000],\n",
       "         [0.0000, 0.0000, 0.0000, 0.0000, 0.0000, 0.0000, 0.0000, 0.0000,\n",
       "          0.0000, 0.0000, 0.7725, 0.3333, 0.3333, 0.3333, 0.3333, 0.3333,\n",
       "          0.4627, 0.0000, 0.0000, 0.0000, 0.0000, 0.0000, 0.0000, 0.0000,\n",
       "          0.0000, 0.0000, 0.0000, 0.0000],\n",
       "         [0.0000, 0.0000, 0.0000, 0.0000, 0.0000, 0.0000, 0.0000, 0.0000,\n",
       "          0.0000, 0.9098, 0.3725, 0.3333, 0.3333, 0.3333, 0.3333, 0.3333,\n",
       "          0.8549, 0.0000, 0.0000, 0.0000, 0.0000, 0.0000, 0.0000, 0.0000,\n",
       "          0.0000, 0.0000, 0.0000, 0.0000],\n",
       "         [0.0000, 0.0000, 0.0000, 0.0000, 0.0000, 0.0000, 0.0000, 0.0000,\n",
       "          0.0000, 0.5294, 0.3333, 0.3333, 0.3333, 0.3333, 0.3333, 0.7098,\n",
       "          0.0000, 0.0000, 0.0000, 0.0000, 0.0000, 0.0000, 0.0000, 0.0000,\n",
       "          0.0000, 0.0000, 0.0000, 0.0000],\n",
       "         [0.0000, 0.0000, 0.0000, 0.0000, 0.0000, 0.0000, 0.0000, 0.0000,\n",
       "          0.7020, 0.3333, 0.3333, 0.3333, 0.3333, 0.3333, 0.5686, 0.0000,\n",
       "          0.0000, 0.0000, 0.0000, 0.0000, 0.0000, 0.0000, 0.0000, 0.0000,\n",
       "          0.0000, 0.0000, 0.0000, 0.0000],\n",
       "         [0.0000, 0.0000, 0.0000, 0.0000, 0.0000, 0.0000, 0.0000, 0.8235,\n",
       "          0.3333, 0.3333, 0.3333, 0.3333, 0.3333, 0.4314, 0.9686, 0.0000,\n",
       "          0.0000, 0.0000, 0.0000, 0.0000, 0.0000, 0.0000, 0.0000, 0.0000,\n",
       "          0.0000, 0.0000, 0.0000, 0.0000],\n",
       "         [0.0000, 0.0000, 0.0000, 0.0000, 0.0000, 0.0000, 0.9098, 0.4039,\n",
       "          0.3333, 0.3333, 0.3333, 0.3333, 0.3333, 0.8078, 0.0000, 0.0000,\n",
       "          0.0000, 0.0000, 0.0000, 0.0000, 0.0000, 0.0000, 0.0000, 0.0000,\n",
       "          0.0000, 0.0000, 0.0000, 0.0000],\n",
       "         [0.0000, 0.0000, 0.0000, 0.0000, 0.0000, 0.9765, 0.4706, 0.3333,\n",
       "          0.3333, 0.3333, 0.3333, 0.3333, 0.6431, 0.0000, 0.0000, 0.0000,\n",
       "          0.0000, 0.0000, 0.0000, 0.0000, 0.0000, 0.0000, 0.0000, 0.0000,\n",
       "          0.0000, 0.0000, 0.0000, 0.0000],\n",
       "         [0.0000, 0.0000, 0.0000, 0.0000, 0.0000, 0.5333, 0.3333, 0.3333,\n",
       "          0.3333, 0.3333, 0.3333, 0.5176, 0.0000, 0.0000, 0.0000, 0.0000,\n",
       "          0.0000, 0.0000, 0.0000, 0.0000, 0.0000, 0.0000, 0.0000, 0.0000,\n",
       "          0.0000, 0.0000, 0.0000, 0.0000],\n",
       "         [0.0000, 0.0000, 0.0000, 0.0000, 0.8314, 0.3333, 0.3333, 0.3333,\n",
       "          0.3333, 0.3333, 0.4235, 0.9255, 0.0000, 0.0000, 0.0000, 0.0000,\n",
       "          0.0000, 0.0000, 0.0000, 0.0000, 0.0000, 0.0000, 0.0000, 0.0000,\n",
       "          0.0000, 0.0000, 0.0000, 0.0000],\n",
       "         [0.0000, 0.0000, 0.0000, 0.0000, 0.8196, 0.3333, 0.3333, 0.3333,\n",
       "          0.3333, 0.3569, 0.8627, 0.0000, 0.0000, 0.0000, 0.0000, 0.0000,\n",
       "          0.0000, 0.0000, 0.0000, 0.0000, 0.0000, 0.0000, 0.0000, 0.0000,\n",
       "          0.0000, 0.0000, 0.0000, 0.0000],\n",
       "         [0.0000, 0.0000, 0.0000, 0.0000, 0.0000, 0.4824, 0.3333, 0.3333,\n",
       "          0.3333, 0.7961, 0.0000, 0.0000, 0.0000, 0.0000, 0.0000, 0.0000,\n",
       "          0.0000, 0.0000, 0.0000, 0.0000, 0.0000, 0.0000, 0.0000, 0.0000,\n",
       "          0.0000, 0.0000, 0.0000, 0.0000],\n",
       "         [0.0000, 0.0000, 0.0000, 0.0000, 0.0000, 0.9804, 0.6941, 0.6431,\n",
       "          0.8510, 0.0000, 0.0000, 0.0000, 0.0000, 0.0000, 0.0000, 0.0000,\n",
       "          0.0000, 0.0000, 0.0000, 0.0000, 0.0000, 0.0000, 0.0000, 0.0000,\n",
       "          0.0000, 0.0000, 0.0000, 0.0000],\n",
       "         [0.0000, 0.0000, 0.0000, 0.0000, 0.0000, 0.0000, 0.0000, 0.0000,\n",
       "          0.0000, 0.0000, 0.0000, 0.0000, 0.0000, 0.0000, 0.0000, 0.0000,\n",
       "          0.0000, 0.0000, 0.0000, 0.0000, 0.0000, 0.0000, 0.0000, 0.0000,\n",
       "          0.0000, 0.0000, 0.0000, 0.0000],\n",
       "         [0.0000, 0.0000, 0.0000, 0.0000, 0.0000, 0.0000, 0.0000, 0.0000,\n",
       "          0.0000, 0.0000, 0.0000, 0.0000, 0.0000, 0.0000, 0.0000, 0.0000,\n",
       "          0.0000, 0.0000, 0.0000, 0.0000, 0.0000, 0.0000, 0.0000, 0.0000,\n",
       "          0.0000, 0.0000, 0.0000, 0.0000]]])"
      ]
     },
     "execution_count": 41,
     "metadata": {},
     "output_type": "execute_result"
    }
   ],
   "source": [
    "ImageTensor = (ImageTensor - 255)/255\n",
    "ImageTensor"
   ]
  },
  {
   "cell_type": "code",
   "execution_count": 43,
   "id": "6e2282d1",
   "metadata": {},
   "outputs": [],
   "source": [
    "yhatTest = f(ImageTensor)"
   ]
  },
  {
   "cell_type": "code",
   "execution_count": 44,
   "id": "b8fd745d",
   "metadata": {},
   "outputs": [
    {
     "data": {
      "text/plain": [
       "tensor([-6.7969e+00,  2.7471e+00,  5.6756e-01,  1.3644e+00,  6.3981e-01,\n",
       "         7.9081e-01, -9.4821e+00,  1.3115e-04,  1.0696e+01,  3.4929e+00],\n",
       "       grad_fn=<SqueezeBackward0>)"
      ]
     },
     "execution_count": 44,
     "metadata": {},
     "output_type": "execute_result"
    }
   ],
   "source": [
    "yhatTest"
   ]
  },
  {
   "cell_type": "code",
   "execution_count": 46,
   "id": "30bf4d1a",
   "metadata": {},
   "outputs": [
    {
     "data": {
      "text/plain": [
       "tensor(8)"
      ]
     },
     "execution_count": 46,
     "metadata": {},
     "output_type": "execute_result"
    }
   ],
   "source": [
    "torch.argmax(yhatTest)"
   ]
  },
  {
   "cell_type": "code",
   "execution_count": 83,
   "id": "55e2455f",
   "metadata": {},
   "outputs": [
    {
     "name": "stdout",
     "output_type": "stream",
     "text": [
      "tensor([-5.3769,  4.8840, -3.0061, -5.8496,  4.0721,  1.5456,  2.8153, -0.5857,\n",
      "         7.1533, -2.0181], grad_fn=<SqueezeBackward0>)\n"
     ]
    },
    {
     "data": {
      "text/plain": [
       "8"
      ]
     },
     "execution_count": 83,
     "metadata": {},
     "output_type": "execute_result"
    }
   ],
   "source": [
    "TestImage = Image.open(\"C:\\\\Users\\\\ashul\\\\Downloads\\\\testing.png\").convert(\"L\") #the \"L\" converts to grayscale\n",
    "ImageTensor = transform(TestImage)\n",
    "ImageTensor = (ImageTensor - 255)/255\n",
    "yhatTest = f(ImageTensor)\n",
    "print(yhatTest)\n",
    "torch.argmax(yhatTest).item()"
   ]
  },
  {
   "cell_type": "code",
   "execution_count": 54,
   "id": "75e08929",
   "metadata": {},
   "outputs": [
    {
     "data": {
      "text/plain": [
       "array([2.31738009e+00, 2.34881988e+00, 2.30740938e+00, ...,\n",
       "       5.82556573e-03, 4.92371563e-04, 2.43185477e-06])"
      ]
     },
     "execution_count": 54,
     "metadata": {},
     "output_type": "execute_result"
    }
   ],
   "source": [
    "loss_data"
   ]
  },
  {
   "cell_type": "code",
   "execution_count": 153,
   "id": "3422720a",
   "metadata": {},
   "outputs": [
    {
     "name": "stdout",
     "output_type": "stream",
     "text": [
      "[0.31105315 0.12466836 0.08205448 0.05918682 0.04407924 0.03304199\n",
      " 0.02472794 0.01835046 0.01354633 0.01013319 0.00776162 0.00604745\n",
      " 0.0047869  0.00385071 0.00315883 0.0026519  0.00227166 0.00197805\n",
      " 0.00174575 0.00155814]\n"
     ]
    },
    {
     "data": {
      "image/png": "[encoded data removed]",
      "text/plain": [
       "<Figure size 432x288 with 1 Axes>"
      ]
     },
     "metadata": {
      "needs_background": "light"
     },
     "output_type": "display_data"
    }
   ],
   "source": [
    "epoch_data_avgd = epoch_data.reshape(20,-1).mean(axis=1)\n",
    "loss_data_avgd = loss_data.reshape(20,-1).mean(axis=1)\n",
    "\n",
    "plt.plot(epoch_data_avgd, loss_data_avgd, 'o--')\n",
    "plt.xlabel('Epoch Number')\n",
    "plt.ylabel('Cross Entropy')\n",
    "plt.title('Cross Entropy (avgd per epoch)')\n",
    "print(loss_data_avgd)"
   ]
  },
  {
   "cell_type": "code",
   "execution_count": 154,
   "id": "bfd26c69",
   "metadata": {},
   "outputs": [],
   "source": [
    "xs, ys = test_ds[:8000]\n",
    "yhats = f(xs).argmax(axis=1)"
   ]
  },
  {
   "cell_type": "code",
   "execution_count": 155,
   "id": "b2448dc6",
   "metadata": {},
   "outputs": [
    {
     "name": "stdout",
     "output_type": "stream",
     "text": [
      "97.81\n"
     ]
    }
   ],
   "source": [
    "Count = 0\n",
    "for i in range(len(xs)):\n",
    "    if ys[i].argmax() == yhats[i]:\n",
    "        Count += 1\n",
    "print(round(Count/len(xs)*100,2))"
   ]
  },
  {
   "cell_type": "code",
   "execution_count": 65,
   "id": "c5353072",
   "metadata": {},
   "outputs": [
    {
     "data": {
      "text/plain": [
       "2000"
      ]
     },
     "execution_count": 65,
     "metadata": {},
     "output_type": "execute_result"
    }
   ],
   "source": [
    "len(xs)"
   ]
  },
  {
   "cell_type": "code",
   "execution_count": 73,
   "id": "8706d2a1",
   "metadata": {},
   "outputs": [],
   "source": [
    "TestImage = Image.open(\"C:\\\\Users\\\\ashul\\\\Downloads\\\\testing.png\").convert(\"L\") #the \"L\" converts to grayscale\n",
    "TestImage.show()"
   ]
  },
  {
   "cell_type": "code",
   "execution_count": 76,
   "id": "dad447e8",
   "metadata": {},
   "outputs": [
    {
     "data": {
      "text/plain": [
       "tensor([[0.0000, 0.0000, 0.0000, 0.0000, 0.0000, 0.0000, 0.0000, 0.0000, 0.0000,\n",
       "         0.0000, 0.0000, 0.0000, 0.0000, 0.0000, 0.0000, 0.0000, 0.0000, 0.0000,\n",
       "         0.0000, 0.0000, 0.0000, 0.0000, 0.0000, 0.0000, 0.0000, 0.0000, 0.0000,\n",
       "         0.0000],\n",
       "        [0.0000, 0.0000, 0.0000, 0.0000, 0.0000, 0.0000, 0.0000, 0.0000, 0.0000,\n",
       "         0.0000, 0.0000, 0.0000, 0.0000, 0.0000, 0.0000, 0.0000, 0.0000, 0.0000,\n",
       "         0.0000, 0.0000, 0.0000, 0.0000, 0.0000, 0.0000, 0.0000, 0.0000, 0.0000,\n",
       "         0.0000],\n",
       "        [0.0000, 0.0000, 0.0000, 0.0000, 0.0000, 0.0000, 0.0000, 0.0000, 0.0000,\n",
       "         0.0000, 0.0000, 0.0000, 0.0000, 0.0000, 0.0000, 0.0000, 0.0000, 0.0000,\n",
       "         0.0000, 0.0000, 0.0000, 0.0000, 0.0000, 0.0000, 0.0000, 0.0000, 0.0000,\n",
       "         0.0000],\n",
       "        [0.0000, 0.0000, 0.0000, 0.0000, 0.0000, 0.0000, 0.0000, 0.0000, 0.0000,\n",
       "         0.0000, 0.0000, 0.0000, 0.0000, 0.0000, 0.0000, 0.0000, 0.0000, 0.0000,\n",
       "         0.0000, 0.0000, 0.0000, 0.0000, 0.0000, 0.0000, 0.0000, 0.0000, 0.0000,\n",
       "         0.0000],\n",
       "        [0.0000, 0.0000, 0.0000, 0.0000, 0.0000, 0.0000, 0.0000, 0.0000, 0.0000,\n",
       "         0.0000, 0.0000, 0.0000, 0.0000, 0.0000, 0.0000, 0.0000, 0.0000, 0.0000,\n",
       "         0.0000, 0.0000, 0.0000, 0.0000, 0.0000, 0.0000, 0.0000, 0.0000, 0.0000,\n",
       "         0.0000],\n",
       "        [0.0000, 0.0000, 0.0000, 0.0000, 0.0000, 0.0000, 0.0000, 0.0000, 0.0000,\n",
       "         0.0000, 0.0000, 0.0000, 0.0000, 0.0000, 0.0000, 0.0000, 0.0000, 0.0000,\n",
       "         0.0000, 0.0000, 0.0000, 0.0000, 0.0000, 0.0000, 0.0000, 0.0000, 0.0000,\n",
       "         0.0000],\n",
       "        [0.0000, 0.0000, 0.0000, 0.0000, 0.0000, 0.0000, 0.0000, 0.0000, 0.0000,\n",
       "         0.0000, 0.0000, 0.0000, 0.0000, 0.0000, 0.0000, 0.0000, 0.0000, 0.0000,\n",
       "         0.0000, 0.0000, 0.0000, 0.0000, 0.0000, 0.0000, 0.0000, 0.0000, 0.0000,\n",
       "         0.0000],\n",
       "        [0.0000, 0.0000, 0.0000, 0.0000, 0.0000, 0.0000, 0.3294, 0.7255, 0.6235,\n",
       "         0.5922, 0.2353, 0.1412, 0.0000, 0.0000, 0.0000, 0.0000, 0.0000, 0.0000,\n",
       "         0.0000, 0.0000, 0.0000, 0.0000, 0.0000, 0.0000, 0.0000, 0.0000, 0.0000,\n",
       "         0.0000],\n",
       "        [0.0000, 0.0000, 0.0000, 0.0000, 0.0000, 0.0000, 0.8706, 0.9961, 0.9961,\n",
       "         0.9961, 0.9961, 0.9451, 0.7765, 0.7765, 0.7765, 0.7765, 0.7765, 0.7765,\n",
       "         0.7765, 0.7765, 0.6667, 0.2039, 0.0000, 0.0000, 0.0000, 0.0000, 0.0000,\n",
       "         0.0000],\n",
       "        [0.0000, 0.0000, 0.0000, 0.0000, 0.0000, 0.0000, 0.2627, 0.4471, 0.2824,\n",
       "         0.4471, 0.6392, 0.8902, 0.9961, 0.8824, 0.9961, 0.9961, 0.9961, 0.9804,\n",
       "         0.8980, 0.9961, 0.9961, 0.5490, 0.0000, 0.0000, 0.0000, 0.0000, 0.0000,\n",
       "         0.0000],\n",
       "        [0.0000, 0.0000, 0.0000, 0.0000, 0.0000, 0.0000, 0.0000, 0.0000, 0.0000,\n",
       "         0.0000, 0.0000, 0.0667, 0.2588, 0.0549, 0.2627, 0.2627, 0.2627, 0.2314,\n",
       "         0.0824, 0.9255, 0.9961, 0.4157, 0.0000, 0.0000, 0.0000, 0.0000, 0.0000,\n",
       "         0.0000],\n",
       "        [0.0000, 0.0000, 0.0000, 0.0000, 0.0000, 0.0000, 0.0000, 0.0000, 0.0000,\n",
       "         0.0000, 0.0000, 0.0000, 0.0000, 0.0000, 0.0000, 0.0000, 0.0000, 0.0000,\n",
       "         0.3255, 0.9922, 0.8196, 0.0706, 0.0000, 0.0000, 0.0000, 0.0000, 0.0000,\n",
       "         0.0000],\n",
       "        [0.0000, 0.0000, 0.0000, 0.0000, 0.0000, 0.0000, 0.0000, 0.0000, 0.0000,\n",
       "         0.0000, 0.0000, 0.0000, 0.0000, 0.0000, 0.0000, 0.0000, 0.0000, 0.0863,\n",
       "         0.9137, 1.0000, 0.3255, 0.0000, 0.0000, 0.0000, 0.0000, 0.0000, 0.0000,\n",
       "         0.0000],\n",
       "        [0.0000, 0.0000, 0.0000, 0.0000, 0.0000, 0.0000, 0.0000, 0.0000, 0.0000,\n",
       "         0.0000, 0.0000, 0.0000, 0.0000, 0.0000, 0.0000, 0.0000, 0.0000, 0.5059,\n",
       "         0.9961, 0.9333, 0.1725, 0.0000, 0.0000, 0.0000, 0.0000, 0.0000, 0.0000,\n",
       "         0.0000],\n",
       "        [0.0000, 0.0000, 0.0000, 0.0000, 0.0000, 0.0000, 0.0000, 0.0000, 0.0000,\n",
       "         0.0000, 0.0000, 0.0000, 0.0000, 0.0000, 0.0000, 0.0000, 0.2314, 0.9765,\n",
       "         0.9961, 0.2431, 0.0000, 0.0000, 0.0000, 0.0000, 0.0000, 0.0000, 0.0000,\n",
       "         0.0000],\n",
       "        [0.0000, 0.0000, 0.0000, 0.0000, 0.0000, 0.0000, 0.0000, 0.0000, 0.0000,\n",
       "         0.0000, 0.0000, 0.0000, 0.0000, 0.0000, 0.0000, 0.0000, 0.5216, 0.9961,\n",
       "         0.7333, 0.0196, 0.0000, 0.0000, 0.0000, 0.0000, 0.0000, 0.0000, 0.0000,\n",
       "         0.0000],\n",
       "        [0.0000, 0.0000, 0.0000, 0.0000, 0.0000, 0.0000, 0.0000, 0.0000, 0.0000,\n",
       "         0.0000, 0.0000, 0.0000, 0.0000, 0.0000, 0.0000, 0.0353, 0.8039, 0.9725,\n",
       "         0.2275, 0.0000, 0.0000, 0.0000, 0.0000, 0.0000, 0.0000, 0.0000, 0.0000,\n",
       "         0.0000],\n",
       "        [0.0000, 0.0000, 0.0000, 0.0000, 0.0000, 0.0000, 0.0000, 0.0000, 0.0000,\n",
       "         0.0000, 0.0000, 0.0000, 0.0000, 0.0000, 0.0000, 0.4941, 0.9961, 0.7137,\n",
       "         0.0000, 0.0000, 0.0000, 0.0000, 0.0000, 0.0000, 0.0000, 0.0000, 0.0000,\n",
       "         0.0000],\n",
       "        [0.0000, 0.0000, 0.0000, 0.0000, 0.0000, 0.0000, 0.0000, 0.0000, 0.0000,\n",
       "         0.0000, 0.0000, 0.0000, 0.0000, 0.0000, 0.2941, 0.9843, 0.9412, 0.2235,\n",
       "         0.0000, 0.0000, 0.0000, 0.0000, 0.0000, 0.0000, 0.0000, 0.0000, 0.0000,\n",
       "         0.0000],\n",
       "        [0.0000, 0.0000, 0.0000, 0.0000, 0.0000, 0.0000, 0.0000, 0.0000, 0.0000,\n",
       "         0.0000, 0.0000, 0.0000, 0.0000, 0.0745, 0.8667, 0.9961, 0.6510, 0.0000,\n",
       "         0.0000, 0.0000, 0.0000, 0.0000, 0.0000, 0.0000, 0.0000, 0.0000, 0.0000,\n",
       "         0.0000],\n",
       "        [0.0000, 0.0000, 0.0000, 0.0000, 0.0000, 0.0000, 0.0000, 0.0000, 0.0000,\n",
       "         0.0000, 0.0000, 0.0000, 0.0118, 0.7961, 0.9961, 0.8588, 0.1373, 0.0000,\n",
       "         0.0000, 0.0000, 0.0000, 0.0000, 0.0000, 0.0000, 0.0000, 0.0000, 0.0000,\n",
       "         0.0000],\n",
       "        [0.0000, 0.0000, 0.0000, 0.0000, 0.0000, 0.0000, 0.0000, 0.0000, 0.0000,\n",
       "         0.0000, 0.0000, 0.0000, 0.1490, 0.9961, 0.9961, 0.3020, 0.0000, 0.0000,\n",
       "         0.0000, 0.0000, 0.0000, 0.0000, 0.0000, 0.0000, 0.0000, 0.0000, 0.0000,\n",
       "         0.0000],\n",
       "        [0.0000, 0.0000, 0.0000, 0.0000, 0.0000, 0.0000, 0.0000, 0.0000, 0.0000,\n",
       "         0.0000, 0.0000, 0.1216, 0.8784, 0.9961, 0.4510, 0.0039, 0.0000, 0.0000,\n",
       "         0.0000, 0.0000, 0.0000, 0.0000, 0.0000, 0.0000, 0.0000, 0.0000, 0.0000,\n",
       "         0.0000],\n",
       "        [0.0000, 0.0000, 0.0000, 0.0000, 0.0000, 0.0000, 0.0000, 0.0000, 0.0000,\n",
       "         0.0000, 0.0000, 0.5216, 0.9961, 0.9961, 0.2039, 0.0000, 0.0000, 0.0000,\n",
       "         0.0000, 0.0000, 0.0000, 0.0000, 0.0000, 0.0000, 0.0000, 0.0000, 0.0000,\n",
       "         0.0000],\n",
       "        [0.0000, 0.0000, 0.0000, 0.0000, 0.0000, 0.0000, 0.0000, 0.0000, 0.0000,\n",
       "         0.0000, 0.2392, 0.9490, 0.9961, 0.9961, 0.2039, 0.0000, 0.0000, 0.0000,\n",
       "         0.0000, 0.0000, 0.0000, 0.0000, 0.0000, 0.0000, 0.0000, 0.0000, 0.0000,\n",
       "         0.0000],\n",
       "        [0.0000, 0.0000, 0.0000, 0.0000, 0.0000, 0.0000, 0.0000, 0.0000, 0.0000,\n",
       "         0.0000, 0.4745, 0.9961, 0.9961, 0.8588, 0.1569, 0.0000, 0.0000, 0.0000,\n",
       "         0.0000, 0.0000, 0.0000, 0.0000, 0.0000, 0.0000, 0.0000, 0.0000, 0.0000,\n",
       "         0.0000],\n",
       "        [0.0000, 0.0000, 0.0000, 0.0000, 0.0000, 0.0000, 0.0000, 0.0000, 0.0000,\n",
       "         0.0000, 0.4745, 0.9961, 0.8118, 0.0706, 0.0000, 0.0000, 0.0000, 0.0000,\n",
       "         0.0000, 0.0000, 0.0000, 0.0000, 0.0000, 0.0000, 0.0000, 0.0000, 0.0000,\n",
       "         0.0000],\n",
       "        [0.0000, 0.0000, 0.0000, 0.0000, 0.0000, 0.0000, 0.0000, 0.0000, 0.0000,\n",
       "         0.0000, 0.0000, 0.0000, 0.0000, 0.0000, 0.0000, 0.0000, 0.0000, 0.0000,\n",
       "         0.0000, 0.0000, 0.0000, 0.0000, 0.0000, 0.0000, 0.0000, 0.0000, 0.0000,\n",
       "         0.0000]])"
      ]
     },
     "execution_count": 76,
     "metadata": {},
     "output_type": "execute_result"
    }
   ],
   "source": [
    "xs[0]"
   ]
  },
  {
   "cell_type": "code",
   "execution_count": 79,
   "id": "4652df42",
   "metadata": {},
   "outputs": [
    {
     "data": {
      "text/plain": [
       "tensor([[[0.0000, 0.0000, 0.0000, 0.0000, 0.0000, 0.0000, 0.0000, 0.8627,\n",
       "          0.7529, 0.7020, 0.6549, 0.7216, 0.7882, 0.9216, 0.0000, 0.0000,\n",
       "          0.0000, 0.0000, 0.0000, 0.0000, 0.0000, 0.0000, 0.0000, 0.0000,\n",
       "          0.0000, 0.0000, 0.0000, 0.0000],\n",
       "         [0.0000, 0.0000, 0.0000, 0.0000, 0.0000, 0.0000, 0.6824, 0.3333,\n",
       "          0.3333, 0.3333, 0.3333, 0.3333, 0.3333, 0.3333, 0.4980, 0.7137,\n",
       "          0.0000, 0.0000, 0.0000, 0.0000, 0.0000, 0.0000, 0.0000, 0.0000,\n",
       "          0.0000, 0.0000, 0.0000, 0.0000],\n",
       "         [0.0000, 0.0000, 0.0000, 0.0000, 0.0000, 0.5255, 0.3333, 0.3333,\n",
       "          0.3333, 0.3333, 0.3333, 0.3333, 0.3333, 0.3333, 0.3333, 0.3333,\n",
       "          0.4706, 0.8431, 0.0000, 0.0000, 0.0000, 0.0000, 0.0000, 0.0000,\n",
       "          0.0000, 0.0000, 0.0000, 0.0000],\n",
       "         [0.0000, 0.0000, 0.0000, 0.0000, 0.7216, 0.3333, 0.3333, 0.3333,\n",
       "          0.5216, 0.6392, 0.6745, 0.6078, 0.5333, 0.3333, 0.3333, 0.3333,\n",
       "          0.3333, 0.3333, 0.6549, 0.0000, 0.0000, 0.0000, 0.0000, 0.0000,\n",
       "          0.0000, 0.0000, 0.0000, 0.0000],\n",
       "         [0.0000, 0.0000, 0.0000, 0.0000, 0.4157, 0.3333, 0.3333, 0.6745,\n",
       "          0.0000, 0.0000, 0.0000, 0.0000, 0.0000, 0.9490, 0.7020, 0.3333,\n",
       "          0.3333, 0.3333, 0.3333, 0.9255, 0.0000, 0.0000, 0.0000, 0.0000,\n",
       "          0.0000, 0.0000, 0.0000, 0.0000],\n",
       "         [0.0000, 0.0000, 0.0000, 0.8471, 0.3333, 0.3333, 0.4157, 0.0000,\n",
       "          0.0000, 0.0000, 0.0000, 0.0000, 0.0000, 0.6627, 0.3333, 0.3333,\n",
       "          0.3333, 0.3333, 0.4667, 0.0000, 0.0000, 0.0000, 0.0000, 0.0000,\n",
       "          0.0000, 0.0000, 0.0000, 0.0000],\n",
       "         [0.0000, 0.0000, 0.0000, 0.8431, 0.3333, 0.3333, 0.4980, 0.0000,\n",
       "          0.0000, 0.0000, 0.0000, 0.0000, 0.7176, 0.3333, 0.3333, 0.3333,\n",
       "          0.3333, 0.3333, 0.8863, 0.0000, 0.0000, 0.0000, 0.0000, 0.0000,\n",
       "          0.0000, 0.0000, 0.0000, 0.0000],\n",
       "         [0.0000, 0.0000, 0.0000, 0.8392, 0.3333, 0.3333, 0.3843, 0.9608,\n",
       "          0.0000, 0.0000, 0.9373, 0.6157, 0.3333, 0.3333, 0.3333, 0.4784,\n",
       "          0.3333, 0.3333, 0.8627, 0.0000, 0.0000, 0.0000, 0.0000, 0.0000,\n",
       "          0.0000, 0.0000, 0.0000, 0.0000],\n",
       "         [0.0000, 0.0000, 0.0000, 0.0000, 0.4431, 0.3333, 0.3333, 0.4196,\n",
       "          0.5529, 0.5412, 0.3333, 0.3333, 0.3333, 0.3333, 0.5059, 0.4431,\n",
       "          0.3333, 0.3333, 0.8941, 0.0000, 0.0000, 0.0000, 0.0000, 0.0000,\n",
       "          0.0000, 0.0000, 0.0000, 0.0000],\n",
       "         [0.0000, 0.0000, 0.0000, 0.0000, 0.7843, 0.3333, 0.3333, 0.3333,\n",
       "          0.3333, 0.3333, 0.3333, 0.3333, 0.3333, 0.5922, 0.9961, 0.4078,\n",
       "          0.3333, 0.3333, 0.9255, 0.0000, 0.0000, 0.0000, 0.0000, 0.0000,\n",
       "          0.0000, 0.0000, 0.0000, 0.0000],\n",
       "         [0.0000, 0.0000, 0.0000, 0.0000, 0.0000, 0.7059, 0.4118, 0.3333,\n",
       "          0.3333, 0.3333, 0.3333, 0.5098, 0.7451, 0.0000, 0.0000, 0.3725,\n",
       "          0.3333, 0.3333, 0.9529, 0.0000, 0.0000, 0.0000, 0.0000, 0.0000,\n",
       "          0.0000, 0.0000, 0.0000, 0.0000],\n",
       "         [0.0000, 0.0000, 0.0000, 0.0000, 0.0000, 0.0000, 0.0000, 0.7843,\n",
       "          0.7843, 0.7882, 0.9098, 0.0000, 0.0000, 0.0000, 0.9882, 0.3333,\n",
       "          0.3333, 0.3333, 0.9843, 0.0000, 0.0000, 0.0000, 0.0000, 0.0000,\n",
       "          0.0000, 0.0000, 0.0000, 0.0000],\n",
       "         [0.0000, 0.0000, 0.0000, 0.0000, 0.0000, 0.0000, 0.0000, 0.0000,\n",
       "          0.0000, 0.0000, 0.0000, 0.0000, 0.0000, 0.0000, 0.9333, 0.3333,\n",
       "          0.3333, 0.3490, 0.0000, 0.0000, 0.0000, 0.0000, 0.0000, 0.0000,\n",
       "          0.0000, 0.0000, 0.0000, 0.0000],\n",
       "         [0.0000, 0.0000, 0.0000, 0.0000, 0.0000, 0.0000, 0.0000, 0.0000,\n",
       "          0.0000, 0.0000, 0.0000, 0.0000, 0.0000, 0.0000, 0.8824, 0.3333,\n",
       "          0.3333, 0.3843, 0.0000, 0.0000, 0.0000, 0.0000, 0.0000, 0.0000,\n",
       "          0.0000, 0.0000, 0.0000, 0.0000],\n",
       "         [0.0000, 0.0000, 0.0000, 0.0000, 0.0000, 0.0000, 0.0000, 0.0000,\n",
       "          0.0000, 0.0000, 0.0000, 0.0000, 0.0000, 0.0000, 0.8392, 0.3333,\n",
       "          0.3333, 0.4078, 0.0000, 0.0000, 0.0000, 0.0000, 0.0000, 0.0000,\n",
       "          0.0000, 0.0000, 0.0000, 0.0000],\n",
       "         [0.0000, 0.0000, 0.0000, 0.0000, 0.0000, 0.0000, 0.0000, 0.0000,\n",
       "          0.0000, 0.0000, 0.0000, 0.0000, 0.0000, 0.0000, 0.7961, 0.3333,\n",
       "          0.3333, 0.4314, 0.0000, 0.0000, 0.0000, 0.0000, 0.0000, 0.0000,\n",
       "          0.0000, 0.0000, 0.0000, 0.0000],\n",
       "         [0.0000, 0.0000, 0.0000, 0.0000, 0.0000, 0.0000, 0.0000, 0.0000,\n",
       "          0.0000, 0.0000, 0.0000, 0.0000, 0.0000, 0.0000, 0.7569, 0.3333,\n",
       "          0.3333, 0.4588, 0.0000, 0.0000, 0.0000, 0.0000, 0.0000, 0.0000,\n",
       "          0.0000, 0.0000, 0.0000, 0.0000],\n",
       "         [0.0000, 0.0000, 0.0000, 0.0000, 0.0000, 0.0000, 0.0000, 0.0000,\n",
       "          0.0000, 0.0000, 0.0000, 0.0000, 0.0000, 0.0000, 0.7412, 0.3333,\n",
       "          0.3333, 0.4863, 0.0000, 0.0000, 0.0000, 0.0000, 0.0000, 0.0000,\n",
       "          0.0000, 0.0000, 0.0000, 0.0000],\n",
       "         [0.0000, 0.0000, 0.0000, 0.0000, 0.0000, 0.0000, 0.0000, 0.0000,\n",
       "          0.0000, 0.0000, 0.0000, 0.0000, 0.0000, 0.0000, 0.7216, 0.3333,\n",
       "          0.3333, 0.5098, 0.0000, 0.0000, 0.0000, 0.0000, 0.0000, 0.0000,\n",
       "          0.0000, 0.0000, 0.0000, 0.0000],\n",
       "         [0.0000, 0.0000, 0.0000, 0.0000, 0.0000, 0.0000, 0.0000, 0.0000,\n",
       "          0.0000, 0.0000, 0.0000, 0.0000, 0.0000, 0.0000, 0.7059, 0.3333,\n",
       "          0.3333, 0.5373, 0.0000, 0.0000, 0.0000, 0.0000, 0.0000, 0.0000,\n",
       "          0.0000, 0.0000, 0.0000, 0.0000],\n",
       "         [0.0000, 0.0000, 0.0000, 0.0000, 0.0000, 0.0000, 0.0000, 0.0000,\n",
       "          0.0000, 0.0000, 0.0000, 0.0000, 0.0000, 0.0000, 0.7059, 0.3333,\n",
       "          0.3333, 0.5569, 0.0000, 0.0000, 0.0000, 0.0000, 0.0000, 0.0000,\n",
       "          0.0000, 0.0000, 0.0000, 0.0000],\n",
       "         [0.0000, 0.0000, 0.0000, 0.0000, 0.0000, 0.0000, 0.0000, 0.0000,\n",
       "          0.0000, 0.0000, 0.0000, 0.0000, 0.0000, 0.0000, 0.7059, 0.3333,\n",
       "          0.3333, 0.5804, 0.0000, 0.0000, 0.0000, 0.0000, 0.0000, 0.0000,\n",
       "          0.0000, 0.0000, 0.0000, 0.0000],\n",
       "         [0.0000, 0.0000, 0.0000, 0.0000, 0.0000, 0.0000, 0.0000, 0.0000,\n",
       "          0.0000, 0.0000, 0.0000, 0.0000, 0.0000, 0.0000, 0.6902, 0.3333,\n",
       "          0.3333, 0.5922, 0.0000, 0.0000, 0.0000, 0.0000, 0.0000, 0.0000,\n",
       "          0.0000, 0.0000, 0.0000, 0.0000],\n",
       "         [0.0000, 0.0000, 0.0000, 0.0000, 0.0000, 0.0000, 0.0000, 0.0000,\n",
       "          0.0000, 0.0000, 0.0000, 0.0000, 0.0000, 0.0000, 0.6745, 0.3333,\n",
       "          0.3333, 0.6078, 0.0000, 0.0000, 0.0000, 0.0000, 0.0000, 0.0000,\n",
       "          0.0000, 0.0000, 0.0000, 0.0000],\n",
       "         [0.0000, 0.0000, 0.0000, 0.0000, 0.0000, 0.0000, 0.0000, 0.0000,\n",
       "          0.0000, 0.0000, 0.0000, 0.0000, 0.0000, 0.0000, 0.6627, 0.3333,\n",
       "          0.3333, 0.6196, 0.0000, 0.0000, 0.0000, 0.0000, 0.0000, 0.0000,\n",
       "          0.0000, 0.0000, 0.0000, 0.0000],\n",
       "         [0.0000, 0.0000, 0.0000, 0.0000, 0.0000, 0.0000, 0.0000, 0.0000,\n",
       "          0.0000, 0.0000, 0.0000, 0.0000, 0.0000, 0.0000, 0.6471, 0.3333,\n",
       "          0.3333, 0.6392, 0.0000, 0.0000, 0.0000, 0.0000, 0.0000, 0.0000,\n",
       "          0.0000, 0.0000, 0.0000, 0.0000],\n",
       "         [0.0000, 0.0000, 0.0000, 0.0000, 0.0000, 0.0000, 0.0000, 0.0000,\n",
       "          0.0000, 0.0000, 0.0000, 0.0000, 0.0000, 0.0000, 0.6941, 0.3333,\n",
       "          0.3333, 0.6980, 0.0000, 0.0000, 0.0000, 0.0000, 0.0000, 0.0000,\n",
       "          0.0000, 0.0000, 0.0000, 0.0000],\n",
       "         [0.0000, 0.0000, 0.0000, 0.0000, 0.0000, 0.0000, 0.0000, 0.0000,\n",
       "          0.0000, 0.0000, 0.0000, 0.0000, 0.0000, 0.0000, 0.0000, 0.6941,\n",
       "          0.6980, 0.0000, 0.0000, 0.0000, 0.0000, 0.0000, 0.0000, 0.0000,\n",
       "          0.0000, 0.0000, 0.0000, 0.0000]]])"
      ]
     },
     "execution_count": 79,
     "metadata": {},
     "output_type": "execute_result"
    }
   ],
   "source": [
    "ImageTensor"
   ]
  },
  {
   "cell_type": "code",
   "execution_count": 84,
   "id": "1e817d0d",
   "metadata": {},
   "outputs": [
    {
     "data": {
      "text/plain": [
       "<matplotlib.image.AxesImage at 0x221dc87ac50>"
      ]
     },
     "execution_count": 84,
     "metadata": {},
     "output_type": "execute_result"
    },
    {
     "data": {
      "image/png": "[encoded data removed]",
      "text/plain": [
       "<Figure size 432x288 with 1 Axes>"
      ]
     },
     "metadata": {
      "needs_background": "light"
     },
     "output_type": "display_data"
    }
   ],
   "source": [
    "plt.imshow(xs[0])"
   ]
  },
  {
   "cell_type": "code",
   "execution_count": 86,
   "id": "d918c473",
   "metadata": {},
   "outputs": [
    {
     "data": {
      "text/plain": [
       "torch.Size([28, 28])"
      ]
     },
     "execution_count": 86,
     "metadata": {},
     "output_type": "execute_result"
    }
   ],
   "source": [
    "xs[0].shape"
   ]
  },
  {
   "cell_type": "code",
   "execution_count": 90,
   "id": "7cada799",
   "metadata": {},
   "outputs": [
    {
     "data": {
      "text/plain": [
       "torch.Size([1, 28, 28])"
      ]
     },
     "execution_count": 90,
     "metadata": {},
     "output_type": "execute_result"
    }
   ],
   "source": [
    "ImageTensor.shape"
   ]
  },
  {
   "cell_type": "code",
   "execution_count": 95,
   "id": "79c8c6c2",
   "metadata": {},
   "outputs": [],
   "source": [
    "IT = ImageTensor.squeeze()"
   ]
  },
  {
   "cell_type": "code",
   "execution_count": 96,
   "id": "9ceaf365",
   "metadata": {},
   "outputs": [
    {
     "data": {
      "text/plain": [
       "torch.Size([28, 28])"
      ]
     },
     "execution_count": 96,
     "metadata": {},
     "output_type": "execute_result"
    }
   ],
   "source": [
    "IT.shape"
   ]
  },
  {
   "cell_type": "code",
   "execution_count": 99,
   "id": "24474042",
   "metadata": {},
   "outputs": [
    {
     "data": {
      "text/plain": [
       "<matplotlib.image.AxesImage at 0x221dcf39ac8>"
      ]
     },
     "execution_count": 99,
     "metadata": {},
     "output_type": "execute_result"
    },
    {
     "data": {
      "image/png": "[encoded data removed]",
      "text/plain": [
       "<Figure size 432x288 with 1 Axes>"
      ]
     },
     "metadata": {
      "needs_background": "light"
     },
     "output_type": "display_data"
    }
   ],
   "source": [
    "#https://stackoverflow.com/questions/61351130/while-converting-a-pil-image-into-a-tensor-why-the-pixels-are-changing\n",
    "plt.imshow(IT)"
   ]
  },
  {
   "cell_type": "code",
   "execution_count": 102,
   "id": "3216a57b",
   "metadata": {},
   "outputs": [
    {
     "data": {
      "image/png": "[encoded data removed]",
      "text/plain": [
       "<PIL.Image.Image image mode=L size=28x28>"
      ]
     },
     "metadata": {},
     "output_type": "display_data"
    }
   ],
   "source": [
    "display(TestImage)"
   ]
  },
  {
   "cell_type": "code",
   "execution_count": 172,
   "id": "45ed3dd4",
   "metadata": {},
   "outputs": [
    {
     "name": "stdout",
     "output_type": "stream",
     "text": [
      "tensor([ 1.5494, -6.1811,  1.2100, -9.3745,  6.5645,  2.9286, 14.5407, -7.2645,\n",
      "        -0.8004, -2.8545], grad_fn=<SqueezeBackward0>)\n",
      "tensor(6)\n"
     ]
    },
    {
     "data": {
      "image/png": "[encoded data removed]",
      "text/plain": [
       "<Figure size 432x288 with 1 Axes>"
      ]
     },
     "metadata": {
      "needs_background": "light"
     },
     "output_type": "display_data"
    }
   ],
   "source": [
    "TestImage = Image.open(\"C:\\\\Users\\\\ashul\\\\Downloads\\\\testing.png\").convert(\"L\") #the \"L\" converts to grayscale\n",
    "pix = TestImage.load()\n",
    "NewImage = []\n",
    "for c in range(28):\n",
    "    Line = []\n",
    "    for r in range(28):\n",
    "        Line.append((255-pix[r,c])/255)\n",
    "    NewImage.append(Line)\n",
    "NewImage = torch.tensor(NewImage)\n",
    "\n",
    "plt.imshow(NewImage)\n",
    "\n",
    "op = f(NewImage)\n",
    "print(op)\n",
    "print(op.argmax())"
   ]
  },
  {
   "cell_type": "code",
   "execution_count": null,
   "id": "a9f7aae9",
   "metadata": {},
   "outputs": [],
   "source": []
  }
 ],
 "metadata": {
  "kernelspec": {
   "display_name": "Python 3 (ipykernel)",
   "language": "python",
   "name": "python3"
  },
  "language_info": {
   "codemirror_mode": {
    "name": "ipython",
    "version": 3
   },
   "file_extension": ".py",
   "mimetype": "text/x-python",
   "name": "python",
   "nbconvert_exporter": "python",
   "pygments_lexer": "ipython3",
   "version": "3.7.2"
  }
 },
 "nbformat": 4,
 "nbformat_minor": 5
}
