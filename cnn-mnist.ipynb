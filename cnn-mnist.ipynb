{
 "cells": [
  {
   "cell_type": "code",
   "execution_count": 1,
   "id": "bc7afd25",
   "metadata": {},
   "outputs": [],
   "source": [
    "#https://medium.com/@nutanbhogendrasharma/pytorch-convolutional-neural-network-with-mnist-dataset-4e8a4265e118\n",
    "import torch"
   ]
  },
  {
   "cell_type": "code",
   "execution_count": 2,
   "id": "1ef11175",
   "metadata": {},
   "outputs": [],
   "source": [
    "#device configuration\n",
    "device = torch.device(\"cuda\" if torch.cuda.is_available() else \"cpu\")\n",
    "#print(device)"
   ]
  },
  {
   "cell_type": "code",
   "execution_count": 3,
   "id": "943b9391",
   "metadata": {},
   "outputs": [],
   "source": [
    "#download MNIST\n",
    "from torchvision import datasets\n",
    "from torchvision.transforms import ToTensor\n",
    "train_data = datasets.MNIST(\n",
    "    root = 'data',\n",
    "    train = True,                         \n",
    "    transform = ToTensor(), \n",
    "    download = True,            \n",
    ")\n",
    "test_data = datasets.MNIST(\n",
    "    root = 'data', \n",
    "    train = False, \n",
    "    transform = ToTensor()\n",
    ")"
   ]
  },
  {
   "cell_type": "code",
   "execution_count": 4,
   "id": "a1c7bbae",
   "metadata": {},
   "outputs": [
    {
     "data": {
      "image/png": "[encoded data removed]",
      "text/plain": [
       "<Figure size 432x288 with 1 Axes>"
      ]
     },
     "metadata": {
      "needs_background": "light"
     },
     "output_type": "display_data"
    }
   ],
   "source": [
    "#print an element of the MNIST dataset\n",
    "import matplotlib.pyplot as plt\n",
    "plt.imshow(train_data.data[0], cmap='gray')\n",
    "plt.title('%i' % train_data.targets[0])\n",
    "plt.show()"
   ]
  },
  {
   "cell_type": "code",
   "execution_count": 5,
   "id": "2b1006fe",
   "metadata": {},
   "outputs": [
    {
     "data": {
      "image/png": "[encoded data removed]",
      "text/plain": [
       "<Figure size 720x576 with 25 Axes>"
      ]
     },
     "metadata": {
      "needs_background": "light"
     },
     "output_type": "display_data"
    }
   ],
   "source": [
    "#print multiple elements\n",
    "figure = plt.figure(figsize=(10, 8))\n",
    "cols, rows = 5, 5\n",
    "for i in range(1, cols * rows + 1):\n",
    "    sample_idx = torch.randint(len(train_data), size=(1,)).item()\n",
    "    img, label = train_data[sample_idx]\n",
    "    figure.add_subplot(rows, cols, i)\n",
    "    plt.title(label)\n",
    "    plt.axis(\"off\")\n",
    "    plt.imshow(img.squeeze(), cmap=\"gray\")\n",
    "plt.show()"
   ]
  },
  {
   "cell_type": "code",
   "execution_count": 6,
   "id": "b61ea04b",
   "metadata": {},
   "outputs": [],
   "source": [
    "from torch.utils.data import DataLoader\n",
    "loaders = {\n",
    "    'train' : torch.utils.data.DataLoader(train_data, \n",
    "                                          batch_size=100, \n",
    "                                          shuffle=True, \n",
    "                                          num_workers=1),\n",
    "    \n",
    "    'test'  : torch.utils.data.DataLoader(test_data, \n",
    "                                          batch_size=100, \n",
    "                                          shuffle=True, \n",
    "                                          num_workers=1),\n",
    "}"
   ]
  },
  {
   "cell_type": "code",
   "execution_count": 7,
   "id": "13e6e92e",
   "metadata": {},
   "outputs": [],
   "source": [
    "#define CNN\n",
    "import torch.nn as nn\n",
    "class CNN(nn.Module):\n",
    "  def __init__(self):\n",
    "    super(CNN, self).__init__()\n",
    "    self.conv1 = nn.Sequential(         \n",
    "      nn.Conv2d(\n",
    "        in_channels=1,              \n",
    "        out_channels=16,            \n",
    "        kernel_size=5,              \n",
    "        stride=1,                   \n",
    "        padding=2,                  \n",
    "      ),                              \n",
    "      nn.ReLU(),                      \n",
    "      nn.MaxPool2d(kernel_size=2),    \n",
    "    )\n",
    "    self.conv2 = nn.Sequential(         \n",
    "      nn.Conv2d(16, 32, 5, 1, 2),     \n",
    "      nn.ReLU(),                      \n",
    "      nn.MaxPool2d(2),                \n",
    "    )\n",
    "    # fully connected layer, output 10 classes\n",
    "    self.out = nn.Linear(32 * 7 * 7, 10)\n",
    "  def forward(self, x):\n",
    "    x = self.conv1(x)\n",
    "    x = self.conv2(x)\n",
    "    # flatten the output of conv2 to (batch_size, 32 * 7 * 7)\n",
    "    x = x.view(x.size(0), -1)       \n",
    "    output = self.out(x)\n",
    "    return output, x    # return x for visualization\n",
    "\n",
    "\n",
    "cnn = CNN()\n",
    "#print(cnn)"
   ]
  },
  {
   "cell_type": "code",
   "execution_count": 8,
   "id": "0e11f646",
   "metadata": {},
   "outputs": [],
   "source": [
    "#loss function\n",
    "loss_func = nn.CrossEntropyLoss()   \n",
    "#print(loss_func)\n",
    "\n",
    "#optimization function\n",
    "from torch import optim\n",
    "optimizer = optim.Adam(cnn.parameters(), lr = 0.01)   \n",
    "#print(optimizer)"
   ]
  },
  {
   "cell_type": "code",
   "execution_count": 9,
   "id": "c9ffdd51",
   "metadata": {},
   "outputs": [],
   "source": [
    "#train the model\n",
    "from torch.autograd import Variable\n",
    "num_epochs = 10\n",
    "def train(num_epochs, cnn, loaders):\n",
    "    \n",
    "  cnn.train()\n",
    "        \n",
    "  # Train the model\n",
    "  total_step = len(loaders['train'])\n",
    "        \n",
    "  for epoch in range(num_epochs):\n",
    "    for i, (images, labels) in enumerate(loaders['train']):\n",
    "            \n",
    "      # gives batch data, normalize x when iterate train_loader\n",
    "      b_x = Variable(images)   # batch x\n",
    "      b_y = Variable(labels)   # batch y\n",
    "\n",
    "      output = cnn(b_x)[0]               \n",
    "      loss = loss_func(output, b_y)\n",
    "      \n",
    "      # clear gradients for this training step   \n",
    "      optimizer.zero_grad()           \n",
    "      \n",
    "      # backpropagation, compute gradients \n",
    "      loss.backward()    \n",
    "      # apply gradients             \n",
    "      optimizer.step()                \n",
    "      \n",
    "      if (i+1) % 100 == 0:\n",
    "        print ('Epoch [{}/{}], Step [{}/{}], Loss: {:.4f}' \n",
    "          .format(epoch + 1, num_epochs, i + 1, total_step, loss.item()))"
   ]
  },
  {
   "cell_type": "code",
   "execution_count": 10,
   "id": "d335b969",
   "metadata": {},
   "outputs": [
    {
     "name": "stdout",
     "output_type": "stream",
     "text": [
      "Epoch [1/10], Step [100/600], Loss: 0.1514\n",
      "Epoch [1/10], Step [200/600], Loss: 0.0285\n",
      "Epoch [1/10], Step [300/600], Loss: 0.0123\n",
      "Epoch [1/10], Step [400/600], Loss: 0.0555\n",
      "Epoch [1/10], Step [500/600], Loss: 0.0094\n",
      "Epoch [1/10], Step [600/600], Loss: 0.0576\n",
      "Epoch [2/10], Step [100/600], Loss: 0.0669\n",
      "Epoch [2/10], Step [200/600], Loss: 0.0496\n",
      "Epoch [2/10], Step [300/600], Loss: 0.0550\n",
      "Epoch [2/10], Step [400/600], Loss: 0.0282\n",
      "Epoch [2/10], Step [500/600], Loss: 0.0245\n",
      "Epoch [2/10], Step [600/600], Loss: 0.0124\n",
      "Epoch [3/10], Step [100/600], Loss: 0.0059\n",
      "Epoch [3/10], Step [200/600], Loss: 0.0052\n",
      "Epoch [3/10], Step [300/600], Loss: 0.0530\n",
      "Epoch [3/10], Step [400/600], Loss: 0.0531\n",
      "Epoch [3/10], Step [500/600], Loss: 0.1204\n",
      "Epoch [3/10], Step [600/600], Loss: 0.0062\n",
      "Epoch [4/10], Step [100/600], Loss: 0.0436\n",
      "Epoch [4/10], Step [200/600], Loss: 0.0704\n",
      "Epoch [4/10], Step [300/600], Loss: 0.0172\n",
      "Epoch [4/10], Step [400/600], Loss: 0.1512\n",
      "Epoch [4/10], Step [500/600], Loss: 0.0505\n",
      "Epoch [4/10], Step [600/600], Loss: 0.0446\n",
      "Epoch [5/10], Step [100/600], Loss: 0.0066\n",
      "Epoch [5/10], Step [200/600], Loss: 0.0019\n",
      "Epoch [5/10], Step [300/600], Loss: 0.0048\n",
      "Epoch [5/10], Step [400/600], Loss: 0.0679\n",
      "Epoch [5/10], Step [500/600], Loss: 0.0166\n",
      "Epoch [5/10], Step [600/600], Loss: 0.0020\n",
      "Epoch [6/10], Step [100/600], Loss: 0.0401\n",
      "Epoch [6/10], Step [200/600], Loss: 0.0003\n",
      "Epoch [6/10], Step [300/600], Loss: 0.0017\n",
      "Epoch [6/10], Step [400/600], Loss: 0.0368\n",
      "Epoch [6/10], Step [500/600], Loss: 0.0083\n",
      "Epoch [6/10], Step [600/600], Loss: 0.0655\n",
      "Epoch [7/10], Step [100/600], Loss: 0.0119\n",
      "Epoch [7/10], Step [200/600], Loss: 0.0011\n",
      "Epoch [7/10], Step [300/600], Loss: 0.0211\n",
      "Epoch [7/10], Step [400/600], Loss: 0.0012\n",
      "Epoch [7/10], Step [500/600], Loss: 0.0131\n",
      "Epoch [7/10], Step [600/600], Loss: 0.0116\n",
      "Epoch [8/10], Step [100/600], Loss: 0.0232\n",
      "Epoch [8/10], Step [200/600], Loss: 0.0375\n",
      "Epoch [8/10], Step [300/600], Loss: 0.0519\n",
      "Epoch [8/10], Step [400/600], Loss: 0.2484\n",
      "Epoch [8/10], Step [500/600], Loss: 0.0140\n",
      "Epoch [8/10], Step [600/600], Loss: 0.0363\n",
      "Epoch [9/10], Step [100/600], Loss: 0.0620\n",
      "Epoch [9/10], Step [200/600], Loss: 0.0107\n",
      "Epoch [9/10], Step [300/600], Loss: 0.0193\n",
      "Epoch [9/10], Step [400/600], Loss: 0.0037\n",
      "Epoch [9/10], Step [500/600], Loss: 0.0219\n",
      "Epoch [9/10], Step [600/600], Loss: 0.1023\n",
      "Epoch [10/10], Step [100/600], Loss: 0.0224\n",
      "Epoch [10/10], Step [200/600], Loss: 0.0235\n",
      "Epoch [10/10], Step [300/600], Loss: 0.0094\n",
      "Epoch [10/10], Step [400/600], Loss: 0.0056\n",
      "Epoch [10/10], Step [500/600], Loss: 0.0015\n",
      "Epoch [10/10], Step [600/600], Loss: 0.0554\n"
     ]
    }
   ],
   "source": [
    "train(num_epochs, cnn, loaders)"
   ]
  },
  {
   "cell_type": "code",
   "execution_count": 11,
   "id": "7aed0fea",
   "metadata": {},
   "outputs": [],
   "source": [
    "def test():\n",
    "    # Test the model\n",
    "    cnn.eval()\n",
    "    with torch.no_grad():\n",
    "      correct = 0\n",
    "      total = 0\n",
    "      for images, labels in loaders['test']:\n",
    "        test_output, last_layer = cnn(images)\n",
    "        pred_y = torch.max(test_output, 1)[1].data.squeeze()\n",
    "        accuracy = (pred_y == labels).sum().item() / float(labels.size(0))\n",
    "    \n",
    "    print('Test Accuracy of the model on the 10000 test images: %.2f' % accuracy)"
   ]
  },
  {
   "cell_type": "code",
   "execution_count": 12,
   "id": "48a00f96",
   "metadata": {},
   "outputs": [
    {
     "name": "stdout",
     "output_type": "stream",
     "text": [
      "Test Accuracy of the model on the 10000 test images: 0.99\n"
     ]
    }
   ],
   "source": [
    "test()"
   ]
  },
  {
   "cell_type": "code",
   "execution_count": 20,
   "id": "97e74bec",
   "metadata": {},
   "outputs": [
    {
     "data": {
      "text/plain": [
       "torch.Size([100, 1, 28, 28])"
      ]
     },
     "execution_count": 20,
     "metadata": {},
     "output_type": "execute_result"
    }
   ],
   "source": [
    "list(loaders[\"test\"])[0][0].size()"
   ]
  },
  {
   "cell_type": "code",
   "execution_count": null,
   "id": "4fe3108d",
   "metadata": {},
   "outputs": [],
   "source": []
  }
 ],
 "metadata": {
  "kernelspec": {
   "display_name": "Python 3 (ipykernel)",
   "language": "python",
   "name": "python3"
  },
  "language_info": {
   "codemirror_mode": {
    "name": "ipython",
    "version": 3
   },
   "file_extension": ".py",
   "mimetype": "text/x-python",
   "name": "python",
   "nbconvert_exporter": "python",
   "pygments_lexer": "ipython3",
   "version": "3.7.3"
  }
 },
 "nbformat": 4,
 "nbformat_minor": 5
}
